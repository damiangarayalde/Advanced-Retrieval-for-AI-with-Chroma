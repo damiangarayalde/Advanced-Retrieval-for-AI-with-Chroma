{
 "cells": [
  {
   "cell_type": "markdown",
   "metadata": {},
   "source": [
    "# How to build a RAG with ChromaDB and ChatGPT"
   ]
  },
  {
   "cell_type": "markdown",
   "metadata": {},
   "source": [
    "In this notebook we can find first a sample of how a document can be prepared and added into Chroma DB.    \n",
    "Then we create a RAG methon and use a LLM (ChatGPT) to answer questions based on the output of queryng the DB. \n",
    "\n",
    "First we need to load the file info and clean it."
   ]
  },
  {
   "cell_type": "code",
   "execution_count": 3,
   "metadata": {},
   "outputs": [
    {
     "name": "stdout",
     "output_type": "stream",
     "text": [
      "I'm angry. And I’m angry because I wish I knew this when I was younger. So I’m a neuroscientist and a lecturer. And as a neuroscientist, I study the brain and the nerves that span out into the body. And as a lecturer, I teach the next generation of healthcare professionals. And look, I see some students struggle with their learning, especially the older ones, but it’s not their fault. You know, we don't get taught how to learn. We just kind of expect it to happen. And I think the worst curse of all really is it gets harder to learn as we age. But what if I told you that there are things that we can do to learn faster and more effectively? I’m going to take you through the neuroscience behind six critical ingredients that can help you learn faster: attention, alertness, sleep, repetition, breaks, and mistakes. Now, first things first. How do we actually learn? We need neuroplasticity to happen. So neuroplasticity is the scientific term that essentially means our brain’s ability to physically change in response to experience. So when we’re learning something, whether it’s learning information or learning a skill, tiny little connections called synapses form between neighboring neurons in the brain. And the more we do that thing, whether it’s information or a skill, the more robust those connections become and the better we get at doing whatever it is. Now, what you’re looking at here are two neurons that I filmed in a petri dish connecting. Actually, this was a petri dish that I was about to throw away, but I saw they were about to connect, so I quickly took this video. Now, these incredible handlike structures here are called “growth cones,” and every neuron has one. They actively sense the environment around, and they help each and every one of the 86 billion neurons in your brain find the correct place to connect to. So, for example, from here to here, or here to here. And this isn’t learning. This doesn’t represent learning. What it represents is how our brain wires itself during development. Now, when things go wrong with that wiring process or when it doesn't happen in the usual way, you can end up with things like issues with learning and memory. Now, kids are a little bit like sponges, right? They just seem to need to be exposed to stuff, and they seem to remember it. Languages, skills, sports, whatever it is, the learning just happens really quickly. Now, have you ever met someone who’s incredibly talented, and you just thought, “Okay, they must have some magic thing about them that the rest of us don’t have.” Well, what if I told you that that's probably not true? It mostly comes down to practice, perseverance, and when in development, they started learning that skill. So the earlier, the better. And people like Serena Williams and Beethoven, they weren't born with their skills. They practiced, and they all actually started by age five. So really, our ability to learn goes downhill after age five, (Laughter) but it certainly gets harder through our childhood, through our teens. And once we hit our mid-twenties, it gets exponentially harder to learn. But the good news is I’m going to tell you what you can do about it because there are things you can do. You can use attention, alertness, sleep, repetition, breaks, and mistakes to make your learning better. So first things first. In order to learn, we need to pay attention, right? Attention is a really important function. So, for example, if I were to ask you to close your eyes and focus on your contact between your feet and the floor, you’ll suddenly be aware of maybe the texture of your socks, maybe how tight your shoes are, maybe how firm the floor is. And you weren’t aware of any of that a second ago. And what that means is that we have the ability to choose how much attention we pay to something. And studies have shown that when we are fully focused on a task, we are more likely to retain that information, especially for the long term. Now, until the last little blip in human history, we have never had to work this hard to pay attention. Like, let’s be honest, how many times do you find yourself rereading or replaying something because you got a bit distracted? Right? Yeah. We are designed to focus on one thing at a time. There’s no secret that the frequent context switching that happens when we use social media, so scrolling through our phones and seeing lots of different bits of completely unrelated bits of information like news, ads, you know, cat videos. That results in significantly measurable attention deficits. So I’m not saying it causes ADHD, but studies have shown that if you use your phone for more than an hour in teens, that results in these attention deficits. So try and use your phone a little bit less. Now, if you wanted to improve your attention in the long term, there are things like focused attention meditation that you can do to improve that. And if you wanted to improve your attention in the really short term, well, you can actually just exercise. I know you’re thinking: “Oh, well, my doctor always says I have to exercise and eat well.” But hear me out for a second. Did you know that exercise can actually increase the size of the part of your brain involved in learning and memory? It also helps you make new brain cells. And studies have shown that regular exercise improves memory. It improves cognition, so your ability to think. And just 20 minutes of moderate exercise - so not even, you know, intense exercise - that will actually improve your attention for about two hours afterwards. So here’s what you should do: if you’re sitting down to study, go for a jog, do some star jumps. It’s even better if you challenge your balance. If you’re at work, run up and down the stairs. There are lots of things that you can do to make this happen. Next, we have... (Air horn blasts) alertness. (Laughter) In order to learn, you’ve got to be alert, right? It's not rocket science. But he’s the thing. If you’re not fully focused on a task, then you’re going to have a harder time retaining that information. Activating our body’s fight-or-flight system or activating our sympathetic nervous system, as it’s also known, results in the release of things like adrenaline and noradrenaline, and amongst other things, that will increase our alertness. So what are some other things that we can do to increase our fight-or-flight system? Because obviously, we can’t go around blasting air horns all the time. Well, again, exercise - a bit of a recurring theme here. You can do certain breathing techniques like Wim Hof breathing. You can even end your shower with a bit of a cold blast of water because that will certainly make you feel very alert. And we also know that stress will do the same thing. So we know that if you sit down to learn after a small stressor - like this, for example - that will enhance your learning. So what can you do? You can have too much stress, though, as you can see that I’m experiencing right now. So when you have been experiencing long-term stress or chronic stress, it physically changes our brain, and it causes issues with learning and memory. So if you have been experiencing stress for a long period of time, you will have impairments in memory. It is that simple, so do be kind to yourself. But little bits of stress are good. They actually help you reach peak performance. And we know that having a little bit of an increase in adrenaline after a learning task will actually enhance your learning as well. Now you can also ingest substances to enhance your alertness, things like caffeine. And there’s a growing body of evidence now that shows that having caffeine before a learning task or actually just being a regular caffeine drinker can enhance your learning and memory through a range of different mechanisms in the brain. We know that, for example, if you eat, you are less alert because that’s switching off our fight-or-flight system. So maybe don’t sit down to study after a big meal. There’s also a limit to our alertness as well. So it's still a little bit contentious, but studies have shown that we are constantly going through what we call an “ultradian rhythm.” So about every 90 minutes, we’re going in and out of peak alertness. So the reality is you can’t be 100% alert all the time, and it’s going to be a chunk of about 8 to 30 minutes in the middle there we will be most alert. Now, another thing for alertness is sleep. Yes, if you haven’t been sleeping, then, yes, you won’t be as alert. But sleep is really important for learning for another reason. So sleep serves a really important constellation of functions. So, for example, it resets our immune system, it resets our metabolism, it resets our emotional control, and it even gets rid of the waste that builds up in our brain over the course of the day. But sleep is actually critical for memory consolidation, so for turning short-term memories into long-term memories. There’s a particular part of the brain called the hippocampus, which is important for learning and memory. So when you do stuff throughout the day, your hippocampus is keeping track of that. It’s a bit like a diary. So if I were to ask you what you were doing before you sat down to listen to this talk, you’re using your hippocampus to recall that information. But it only keeps information there for the short term. And when you sleep, all of those short-term memories get flitted off to other parts of the brain, the cortex, and turned into long-term memories. So if you don’t sleep, you can’t turn those short-term memories into long-term memories. And that’s why sleep is so important for learning. That’s why pulling an all-nighter and cramming is the worst thing you can do for study because you are not going to retain that information for the long term. So really, here's what you should do. Make sure you prioritize your sleep before you study, just so you can be a bit more alert, but also really prioritize that study after learning because you will need that to retain that information for the long term. Now, the old adage says that practice makes perfect, but there's so much truth to that because repetition is key when it comes to learning. Repetition is key when it comes to learning. It's not enough to just hear or see something once and expect to remember it forever. Just like exercising builds muscle, repetitive patterns of thinking or doing things will reinforce those pathways and those connections in the brain associated with doing that thing, so it'll become easier to recall. So through the process of neuroplasticity, you’re making these brand-new connections. And that takes energy, requires fatty acids, requires lots of little proteins to be made. It’s a big job. It takes a lot of energy. And the brain’s not going to want to invest all of this energy in creating these new connections if it’s something that you’ve only done once, right? That is why repetition is so important for learning. It’s basically flagging to your brain at the cellular level that “Hey, this is the thing that keeps coming up in my life. So in order to be more efficient, I need to reinforce this and do it better.” So here's what you should do. Repeat the thing that you are trying to learn as many times as you can in that learning period, and use the spacing technique. So space your learning out over multiple days so that way your learning has a chance to build on those new long-term memories. We know that two shorter learning periods over different days will result in significantly better learning than using that same amount of time on a single day. Sometimes we can learn things in one go. And this is a thing called “one-trial learning” in psychology and neuroscience. And it basically happens when there’s a really strong emotional component tied to that experience. So, for example, if it makes us really happy or really sad or scared, especially if it makes us afraid, actually, and there’s a really important biological reason for that if you think about it. So your brain wants to remember in exquisite detail everything to do with that scary event. So that way, you know how to respond the next time you encounter it or just so you can avoid it completely. And when things go wrong with that process, you can end up with things like PTSD. Breaks are incredibly important for learning as well. And there are two main reasons for that. So, first of all, it gives our brains a chance to replay that information. It happens completely subconsciously. So, for example, if you were learning a sequence on the piano, then if you were to take a ten-second break afterwards, your brain will actually be brain recording so that you’ll be replaying that sequence, and you’ll be doing it 20 times faster. And it looks like it might be even better if you spend 10 to 20 minutes afterwards either just having a quiet break - no phones, of course - having a nap or doing a round of nonsleep, deep rest. Now, the other reason why breaks are important is because that newly encoded information isn’t very stable. And if you were to use those same networks to learn something else soon afterwards, what will happen is that newly encoded information can be destroyed in a process called “retrograde interference.” And in kids, they stabilize pretty quickly, within a few minutes. But in adults, as far as we know, they’re still unstable after an hour, maybe longer. So here’s what you should do. Make sure you take a 10- to 20-minute break after you finish learning. And if you're at work, well, then just try and do those mundane tasks that you can do without thinking too much and wait at least an hour before trying to learn something similar, preferably do it on a different day. Next, we have mistakes, and I know making mistakes is terrifying. It is really scary, but there’s a biological reason behind that. So that feeling of anxiety and stress you get when you make a mistake, it serves a really important purpose. So when you make a mistake, what happens is you’re releasing neuromodulators like acetylcholine, and you're getting increased activity in your focused attention networks. And that increase in attention and that feeling of anxiety serves a really important purpose. It’s basically saying to us, “Hey, you made a mistake. You need to change and do better and become more efficient.” And it's opening up this window for neuroplasticity. So, whatever happens next, your brain is ready to take in. Now, if you make a mistake and you feel a bit anxious, and you walk away, well, ‘A’, you’re not going to learn that thing, and ‘B’, well, you’re actually learning to be less able to cope with failure. Here’s what you should do. You should set yourself up for a little bit of failure, right? Quiz yourself on that topic as you go. Don’t wait until you’re ready. If you’re learning something - for example, soccer - don’t just kick it straight at the goal. Change the angle. Make it more difficult, so you make mistakes. Don't wait for everything to be perfect before you have a go, because at the end of the day if you make a mistake, you'll be releasing neuromodulators that improve your attention. And if you get it right, you’ll be releasing things like dopamine in your reward circuits, which makes you feel good, which makes you feel more motivated and consolidates the learning of the thing that you just did correctly, right? So that’s why turning our learning into a bit of a game can work so well. It’s a bit of a win-win situation for our brain either way, right? So when you make a mistake, you know, don't view that anxiety as a bad thing. Lean into that feeling and keep going because it's really your brain's way of helping you be your best. It’s helping you be better than the person that you were yesterday. So, as you can see, I’m not angry anymore. I’m still quite nervous. (Laughter) But that’s because by understanding the brain, I know that you have the keys to unlock your potential to learn faster and more effectively. Those keys are attention, alertness, sleep, repetition, breaks, and mistakes. So next time you’re sitting down to learn, get rid of those distractions, increase your attention, increase your alertness, maybe through a little bit of exercise, repeat the thing that you are trying to do as many times as you can in that training period, and repeat it over multiple days, making sure that you prioritize that sleep in between. Embrace your mistakes, and make sure you take a 10- to 20-minute break after learning because your brain is going to thank you. And now I’m going to thank you for your attention, and I hope you learnt something new. (Applause)\n"
     ]
    }
   ],
   "source": [
    "file_path = 'brain_hack.txt'\n",
    "\n",
    "with open(file_path, 'r') as file:\n",
    "    lines = file.readlines()\n",
    "\n",
    "# Filter odd lines (skipping time tags) and join them\n",
    "filtered_lines = [line.strip() for i, line in enumerate(lines) if i % 2 == 0]\n",
    "\n",
    "# Join the filtered lines into a single text\n",
    "filtered_text = ' '.join(filtered_lines)\n",
    "\n",
    "# Print or use the filtered text as needed\n",
    "print(filtered_text)\n",
    "pdf_texts= [filtered_text]"
   ]
  },
  {
   "cell_type": "code",
   "execution_count": 4,
   "metadata": {},
   "outputs": [],
   "source": [
    "from langchain.text_splitter import RecursiveCharacterTextSplitter, SentenceTransformersTokenTextSplitter"
   ]
  },
  {
   "cell_type": "code",
   "execution_count": 5,
   "metadata": {},
   "outputs": [
    {
     "name": "stdout",
     "output_type": "stream",
     "text": [
      "\n",
      "Total chunks: 38\n"
     ]
    }
   ],
   "source": [
    "character_splitter = RecursiveCharacterTextSplitter(\n",
    "    separators=[\"\\n\\n\", \"\\n\", \". \", \" \", \"\"],\n",
    "    chunk_size=500,\n",
    "    chunk_overlap=0\n",
    ")\n",
    "character_split_texts = character_splitter.split_text('\\n\\n'.join(pdf_texts))\n",
    "\n",
    "print(f\"\\nTotal chunks: {len(character_split_texts)}\")"
   ]
  },
  {
   "cell_type": "code",
   "execution_count": 6,
   "metadata": {},
   "outputs": [
    {
     "name": "stderr",
     "output_type": "stream",
     "text": [
      "/Users/damiangarayalde/Desktop/Work - Github Repos/AI/Advanced Retrieval for AI with Chroma/env/lib/python3.11/site-packages/tqdm/auto.py:21: TqdmWarning: IProgress not found. Please update jupyter and ipywidgets. See https://ipywidgets.readthedocs.io/en/stable/user_install.html\n",
      "  from .autonotebook import tqdm as notebook_tqdm\n"
     ]
    },
    {
     "name": "stdout",
     "output_type": "stream",
     "text": [
      "\n",
      "Total chunks: 38\n"
     ]
    }
   ],
   "source": [
    "token_splitter = SentenceTransformersTokenTextSplitter(chunk_overlap=0, tokens_per_chunk=256)\n",
    "\n",
    "token_split_texts = []\n",
    "for text in character_split_texts:\n",
    "    token_split_texts += token_splitter.split_text(text)\n",
    "   \n",
    "print(f\"\\nTotal chunks: {len(token_split_texts)}\")"
   ]
  },
  {
   "cell_type": "code",
   "execution_count": 7,
   "metadata": {},
   "outputs": [],
   "source": [
    "import chromadb\n",
    "from chromadb.utils.embedding_functions import SentenceTransformerEmbeddingFunction\n",
    "\n",
    "embedding_function = SentenceTransformerEmbeddingFunction()"
   ]
  },
  {
   "cell_type": "code",
   "execution_count": 8,
   "metadata": {},
   "outputs": [
    {
     "name": "stderr",
     "output_type": "stream",
     "text": [
      "huggingface/tokenizers: The current process just got forked, after parallelism has already been used. Disabling parallelism to avoid deadlocks...\n",
      "To disable this warning, you can either:\n",
      "\t- Avoid using `tokenizers` before the fork if possible\n",
      "\t- Explicitly set the environment variable TOKENIZERS_PARALLELISM=(true | false)\n"
     ]
    },
    {
     "data": {
      "text/plain": [
       "38"
      ]
     },
     "execution_count": 8,
     "metadata": {},
     "output_type": "execute_result"
    }
   ],
   "source": [
    "chroma_client = chromadb.Client()\n",
    "\n",
    "chroma_collection = chroma_client.create_collection(\"TEDTalk.txt\", embedding_function=embedding_function)\n",
    "\n",
    "ids = [str(i) for i in range(len(token_split_texts))]\n",
    "\n",
    "# The .add method will embedd the token_split_texts using the embedding_function specified above\n",
    "\n",
    "chroma_collection.add(ids=ids, documents=token_split_texts)\n",
    "\n",
    "chroma_collection.count()"
   ]
  },
  {
   "cell_type": "code",
   "execution_count": 9,
   "metadata": {},
   "outputs": [],
   "source": [
    "# Set ChatGPT API connection\n",
    "\n",
    "import os\n",
    "import openai\n",
    "from openai import OpenAI\n",
    "\n",
    "from dotenv import load_dotenv, find_dotenv\n",
    "_ = load_dotenv(find_dotenv()) # read local .env file\n",
    "openai.api_key = os.environ['OPENAI_API_KEY']\n",
    "\n",
    "openai_client = OpenAI()"
   ]
  },
  {
   "cell_type": "code",
   "execution_count": 10,
   "metadata": {},
   "outputs": [],
   "source": [
    "# The information provided in the 'content' is the key for how the system will behave. \n",
    "# Feel free to modify it and test different scenarios\n",
    "\n",
    "def rag(query, retrieved_documents, model=\"gpt-3.5-turbo\"):\n",
    "    information = \"\\n\\n\".join(retrieved_documents)\n",
    "\n",
    "    messages = [\n",
    "        {\n",
    "            \"role\": \"system\",\n",
    "            \"content\": \"You are a learning assistant. Your users are students asking questions about information contained in a Ted talk transcript.\"\n",
    "            \"You will be shown the user's question, and the relevant information from the lecture transcript. Answer the user's question using only this information.\"\n",
    "        },\n",
    "        {\"role\": \"user\", \"content\": f\"Question: {query}. \\n Information: {information}\"}\n",
    "    ]\n",
    "    \n",
    "    response = openai_client.chat.completions.create(\n",
    "        model=model,\n",
    "        messages=messages,\n",
    "    )\n",
    "    content = response.choices[0].message.content\n",
    "    return content"
   ]
  },
  {
   "cell_type": "code",
   "execution_count": 19,
   "metadata": {},
   "outputs": [],
   "source": [
    "def get_tedtalk_answer(question, detail_retrieved_docs = True ):\n",
    "\n",
    "    results = chroma_collection.query(query_texts=[question], n_results=5)\n",
    "\n",
    "    # Under the hood the .query() method will embedd the query using the same embedding funtion used when adding the documents. \n",
    "    # Here is where chroma_db searchs for the documents that look similar to the query and then return some documents (5 here)\n",
    "\n",
    "    retrieved_documents = results['documents'][0]\n",
    "\n",
    "    # If required we can list the retrieved fragments:\n",
    "    if detail_retrieved_docs==True:\n",
    "\n",
    "        print('The fragments that show a closest match to the question are: \\n')\n",
    "\n",
    "        for document in retrieved_documents:\n",
    "            print(document)\n",
    "        \n",
    "        print('\\n And the rag output is:')\n",
    "\n",
    "\n",
    "    output = rag(query=question, retrieved_documents=retrieved_documents)\n",
    "        \n",
    "    return output\n"
   ]
  },
  {
   "cell_type": "code",
   "execution_count": 20,
   "metadata": {},
   "outputs": [
    {
     "data": {
      "text/plain": [
       "'The main idea of the lecture is that attention, alertness, sleep, repetition, breaks, and mistakes can be used to improve learning. Paying attention is important for learning, and when we are fully focused on a task, we are more likely to retain information for the long term. Repetition is key in learning, as it is not enough to hear or see something once and expect to remember it forever. It is important to prioritize sleep before studying to improve alertness, and to study after learning to retain information for the long term. The hippocampus, which is important for learning and memory, keeps track of information like a diary, but only for the short term.'"
      ]
     },
     "execution_count": 20,
     "metadata": {},
     "output_type": "execute_result"
    }
   ],
   "source": [
    "# Test  without detailing the retrieved fragments:\n",
    "\n",
    "get_tedtalk_answer( \"What is main idea of the lecture?\" , False)"
   ]
  },
  {
   "cell_type": "code",
   "execution_count": 21,
   "metadata": {},
   "outputs": [
    {
     "name": "stdout",
     "output_type": "stream",
     "text": [
      "The fragments that show a closest match to the question are: \n",
      "\n",
      ". you can use attention, alertness, sleep, repetition, breaks, and mistakes to make your learning better. so first things first. in order to learn, we need to pay attention, right? attention is a really important function. so, for example, if i were to ask you to close your eyes and focus on your contact between your feet and the floor, you ’ ll suddenly be aware of maybe the texture of your socks, maybe how tight your shoes are, maybe how firm the floor is\n",
      ". and i think the worst curse of all really is it gets harder to learn as we age. but what if i told you that there are things that we can do to learn faster and more effectively? i ’ m going to take you through the neuroscience behind six critical ingredients that can help you learn faster : attention, alertness, sleep, repetition, breaks, and mistakes. now, first things first. how do we actually learn? we need neuroplasticity to happen\n",
      ". make sure you take a 10 - to 20 - minute break after you finish learning. and if you're at work, well, then just try and do those mundane tasks that you can do without thinking too much and wait at least an hour before trying to learn something similar, preferably do it on a different day. next, we have mistakes, and i know making mistakes is terrifying. it is really scary, but there ’ s a biological reason behind that\n",
      ". so next time you ’ re sitting down to learn, get rid of those distractions, increase your attention, increase your alertness, maybe through a little bit of exercise, repeat the thing that you are trying to do as many times as you can in that training period, and repeat it over multiple days, making sure that you prioritize that sleep in between. embrace your mistakes, and make sure you take a 10 - to 20 - minute break after learning because your brain is going to thank you\n",
      ". languages, skills, sports, whatever it is, the learning just happens really quickly. now, have you ever met someone who ’ s incredibly talented, and you just thought, “ okay, they must have some magic thing about them that the rest of us don ’ t have. ” well, what if i told you that that's probably not true? it mostly comes down to practice, perseverance, and when in development, they started learning that skill. so the earlier, the better\n",
      "\n",
      " And the rag output is:\n"
     ]
    },
    {
     "data": {
      "text/plain": [
       "'The biggest challenge to improve learning is that it gets harder to learn as we age. However, there are several factors that can help improve learning, including attention, alertness, sleep, repetition, breaks, and mistakes. It is important to prioritize attention and alertness, possibly through exercise, and repeat the material multiple times over multiple days. Taking breaks of 10 to 20 minutes after learning is also beneficial. Embracing mistakes and allowing for proper sleep are also important for effective learning. Additionally, it is not true that some people have a magical talent for learning; it mostly comes down to practice, perseverance, and starting to learn a skill early in development.'"
      ]
     },
     "execution_count": 21,
     "metadata": {},
     "output_type": "execute_result"
    }
   ],
   "source": [
    "# Test detailing the retrieved fragments:\n",
    "\n",
    "get_tedtalk_answer( \"What is the biggest challenge to improve learning?\" )"
   ]
  },
  {
   "cell_type": "code",
   "execution_count": 22,
   "metadata": {},
   "outputs": [
    {
     "name": "stdout",
     "output_type": "stream",
     "text": [
      "The fragments that show a closest match to the question are: \n",
      "\n",
      ". but sleep is really important for learning for another reason. so sleep serves a really important constellation of functions. so, for example, it resets our immune system, it resets our metabolism, it resets our emotional control, and it even gets rid of the waste that builds up in our brain over the course of the day. but sleep is actually critical for memory consolidation, so for turning short - term memories into long - term memories\n",
      ". just like exercising builds muscle, repetitive patterns of thinking or doing things will reinforce those pathways and those connections in the brain associated with doing that thing, so it'll become easier to recall. so through the process of neuroplasticity, you ’ re making these brand - new connections. and that takes energy, requires fatty acids, requires lots of little proteins to be made. it ’ s a big job. it takes a lot of energy\n",
      ". so i ’ m not saying it causes adhd, but studies have shown that if you use your phone for more than an hour in teens, that results in these attention deficits. so try and use your phone a little bit less. now, if you wanted to improve your attention in the long term, there are things like focused attention meditation that you can do to improve that. and if you wanted to improve your attention in the really short term, well, you can actually just exercise\n",
      ". so that feeling of anxiety and stress you get when you make a mistake, it serves a really important purpose. so when you make a mistake, what happens is you ’ re releasing neuromodulators like acetylcholine, and you're getting increased activity in your focused attention networks. and that increase in attention and that feeling of anxiety serves a really important purpose. it ’ s basically saying to us, “ hey, you made a mistake\n",
      ". you should set yourself up for a little bit of failure, right? quiz yourself on that topic as you go. don ’ t wait until you ’ re ready. if you ’ re learning something - for example, soccer - don ’ t just kick it straight at the goal. change the angle. make it more difficult, so you make mistakes. don't wait for everything to be perfect before you have a go, because at the end of the day if you make a mistake, you'll be releasing neuromodulators that improve your attention\n",
      "\n",
      " And the rag output is:\n"
     ]
    },
    {
     "data": {
      "text/plain": [
       "'There is no information provided in the transcript about what Mafalda has done for the Chinese government.'"
      ]
     },
     "execution_count": 22,
     "metadata": {},
     "output_type": "execute_result"
    }
   ],
   "source": [
    "# Test with a question that is not related to the text:\n",
    "\n",
    "get_tedtalk_answer( \"What has Mafalda done for the Chinese government?\" )"
   ]
  }
 ],
 "metadata": {
  "kernelspec": {
   "display_name": "env",
   "language": "python",
   "name": "python3"
  },
  "language_info": {
   "codemirror_mode": {
    "name": "ipython",
    "version": 3
   },
   "file_extension": ".py",
   "mimetype": "text/x-python",
   "name": "python",
   "nbconvert_exporter": "python",
   "pygments_lexer": "ipython3",
   "version": "3.11.4"
  }
 },
 "nbformat": 4,
 "nbformat_minor": 2
}
