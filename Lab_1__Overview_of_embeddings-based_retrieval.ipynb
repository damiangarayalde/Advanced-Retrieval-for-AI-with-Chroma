{
 "cells": [
  {
   "cell_type": "markdown",
   "metadata": {},
   "source": [
    "# Lab 1 - Overview of embeddings-based retrieval"
   ]
  },
  {
   "cell_type": "markdown",
   "metadata": {},
   "source": [
    "In this notebook we can find first a sample of how a document can be prepared and added into Chroma DB.    \n",
    "Then we create a RAG methon and use a LLM (ChatGPT) to answer a question based on the output of queryng the DB. "
   ]
  },
  {
   "cell_type": "code",
   "execution_count": 1,
   "metadata": {},
   "outputs": [],
   "source": [
    "from pypdf import PdfReader\n",
    "\n",
    "reader = PdfReader(\"microsoft_annual_report_2022.pdf\")\n",
    "\n",
    "pdf_texts = [p.extract_text().strip() for p in reader.pages]\n",
    "\n",
    "# Filter the empty strings\n",
    "pdf_texts = [text for text in pdf_texts if text]"
   ]
  },
  {
   "cell_type": "code",
   "execution_count": 2,
   "metadata": {},
   "outputs": [
    {
     "name": "stdout",
     "output_type": "stream",
     "text": [
      "1 Dear shareholders, colleagues, customers, and partners:  \n",
      "We are living through a period of historic economic, societal, and geopolitical change. The world in 2022 looks nothing like \n",
      "the world in 2019. As I write this, inflation is at a 40 -year high, supply chains are stretched, and the war in Ukraine is \n",
      "ongoing. At the same time, we are entering a technological era with the potential to power awesome advancements \n",
      "across every sector of our economy and society. As the world’s largest software company, this places us at a historic \n",
      "intersection of opportunity and responsibility to the world around us.  \n",
      "Our mission to empower every person and every organization on the planet to achieve more has never been more \n",
      "urgent or more necessary. For all the uncertainty in the world, one thing is clear: People and organizations in every \n",
      "industry are increasingly looking to digital technology to overcome today’s challenges and emerge stronger. And no \n",
      "company is better positioned to help them than Microsoft.  \n",
      "Every day this past fiscal year I have had the privilege to witness our customers use our platforms and tools to connect \n",
      "what technology can do with what the world needs  it to do.  \n",
      "Here are just a few examples:  \n",
      "• Ferrovial, which builds and manages some of the world’s busiest airports and highways, is using our cloud \n",
      "infrastructure to build safer roads as it prepares for a future of autonomous transportation.  \n",
      "• Peace Parks Foundation, a nonprofit helping protect natural ecosystems in Southern Africa, is using Microsoft \n",
      "Dynamics 365 and Power BI to secure essential funding, as well as our Azure AI and IoT solutions to help \n",
      "rangers scale their park maintenance and wildlife crime prevention work.  \n",
      "• One of the world’s largest robotics companies, Kawasaki Heavy Industries, is using the breadth of our tools —\n",
      "from Azure IoT and HoloLens —to create an industrial metaverse solution that brings its distributed workforce \n",
      "together with its network of connected equipment to improve productivity and keep employees safe.  \n",
      "• Globo, the biggest media and TV company in Brazil, is using Power Platform to empower its employees to \n",
      "build their own solutions for everything from booking sets to setting schedules.  \n",
      "• And Ørsted, which produces a quarter of the world’s wind energy, is using the Microsoft Intelligent Data \n",
      "Platform to turn data from its offshore turbines into insights for predictive maintenance.  \n",
      "Amid this dynamic environment, we delivered record results in fiscal year 2022: We reported $198  billion in revenue and \n",
      "$83 billion in operating income. And the Microsoft Cloud surpassed $100  billion in annualized revenue for the first time.  \n",
      "OUR RESPONSIBILITY  \n",
      "As a corporation, our purpose and actions must be aligned with addressing the world’s problems, not creating new ones. \n",
      "At our very core, we need to deliver innovation that helps drive broad economic growth. We, as a company, will do well \n",
      "when the world around us does well.  \n",
      "That’s what I believe will lead to widespread human progress and ultimately improve the lives of everyone. There is no \n",
      "more powerful input than digital technology to drive the world’s economic output. This is the core thesis for our being as a \n",
      "company, but it’s not enough. As we drive global economic growth, we must also commit to creating a more inclusive, \n",
      "equitable, sustainable, and trusted future.  \n",
      "Support inclusive economic growth  \n",
      "We must ensure the growth we drive reaches every person, organization, community, and country. This starts with \n",
      "increasing access to digital skills. This year alone, more than 23  million people accessed digital skills training as part of \n",
      "our global skills initiative.\n"
     ]
    }
   ],
   "source": [
    "print(pdf_texts[0])"
   ]
  },
  {
   "cell_type": "code",
   "execution_count": 4,
   "metadata": {},
   "outputs": [],
   "source": [
    "from langchain.text_splitter import RecursiveCharacterTextSplitter, SentenceTransformersTokenTextSplitter"
   ]
  },
  {
   "cell_type": "code",
   "execution_count": 5,
   "metadata": {},
   "outputs": [
    {
     "name": "stdout",
     "output_type": "stream",
     "text": [
      "\n",
      "Total chunks: 347\n"
     ]
    }
   ],
   "source": [
    "character_splitter = RecursiveCharacterTextSplitter(\n",
    "    separators=[\"\\n\\n\", \"\\n\", \". \", \" \", \"\"],\n",
    "    chunk_size=1000,\n",
    "    chunk_overlap=0\n",
    ")\n",
    "character_split_texts = character_splitter.split_text('\\n\\n'.join(pdf_texts))\n",
    "\n",
    "print(f\"\\nTotal chunks: {len(character_split_texts)}\")"
   ]
  },
  {
   "cell_type": "code",
   "execution_count": 7,
   "metadata": {},
   "outputs": [],
   "source": [
    "#character_split_texts"
   ]
  },
  {
   "cell_type": "code",
   "execution_count": 8,
   "metadata": {},
   "outputs": [
    {
     "name": "stderr",
     "output_type": "stream",
     "text": [
      "/Users/damiangarayalde/Desktop/Work - Github Repos/AI/Advanced Retrieval for AI with Chroma/env/lib/python3.11/site-packages/tqdm/auto.py:21: TqdmWarning: IProgress not found. Please update jupyter and ipywidgets. See https://ipywidgets.readthedocs.io/en/stable/user_install.html\n",
      "  from .autonotebook import tqdm as notebook_tqdm\n"
     ]
    },
    {
     "name": "stdout",
     "output_type": "stream",
     "text": [
      "increased, due in large part to significant global datacenter expansions and the growth in xbox sales and usage. despite these increases, we remain dedicated to achieving a net - zero future. we recognize that progress won ’ t always be linear, and the rate at which we can implement emissions reductions is dependent on many factors that can fluctuate over time. on the path to becoming water positive, we invested in 21 water replenishment projects that are expected to generate over 1. 3 million cubic meters of volumetric benefits in nine water basins around the world. progress toward our zero waste commitment included diverting more than 15, 200 metric tons of solid waste otherwise headed to landfills and incinerators, as well as launching new circular centers to increase reuse and reduce e - waste at our datacenters. we contracted to protect over 17, 000 acres of land ( 50 % more than the land we use to operate ), thus achieving our\n",
      "\n",
      "Total chunks: 349\n"
     ]
    }
   ],
   "source": [
    "token_splitter = SentenceTransformersTokenTextSplitter(chunk_overlap=0, tokens_per_chunk=256)\n",
    "\n",
    "token_split_texts = []\n",
    "for text in character_split_texts:\n",
    "    token_split_texts += token_splitter.split_text(text)\n",
    "   \n",
    "print(token_split_texts[10])\n",
    "print(f\"\\nTotal chunks: {len(token_split_texts)}\")"
   ]
  },
  {
   "cell_type": "code",
   "execution_count": 15,
   "metadata": {},
   "outputs": [],
   "source": [
    "import chromadb\n",
    "from chromadb.utils.embedding_functions import SentenceTransformerEmbeddingFunction\n",
    "\n",
    "my_embedding_function = SentenceTransformerEmbeddingFunction()"
   ]
  },
  {
   "cell_type": "code",
   "execution_count": 17,
   "metadata": {},
   "outputs": [
    {
     "name": "stdout",
     "output_type": "stream",
     "text": [
      "[[0.042562685906887054, 0.03321181237697601, 0.03034008853137493, -0.034866560250520706, 0.0684165209531784, -0.08090909570455551, -0.015474434942007065, -0.0014508796157315373, -0.016744473949074745, 0.06770768761634827, -0.05054137110710144, -0.04919534549117088, 0.05139994993805885, 0.09192728251218796, -0.07177843898534775, 0.03951972723007202, -0.012833558954298496, -0.02494749426841736, -0.04622863978147507, -0.02435753308236599, 0.03394967317581177, 0.02550244703888893, 0.027317114174365997, -0.004126247484236956, -0.036338403820991516, 0.0036908735055476427, -0.02743045799434185, 0.004796713590621948, -0.02889619767665863, -0.01887074112892151, 0.036666300147771835, 0.025695864111185074, 0.03131284937262535, -0.0639343336224556, 0.053944047540426254, 0.08225346356630325, -0.04175683110952377, -0.0069957817904651165, -0.023486008867621422, -0.03074798732995987, -0.0029791586566716433, -0.07790941745042801, 0.009353111498057842, 0.0031628564465790987, -0.02225707285106182, -0.01829465851187706, -0.00961245410144329, -0.03150683268904686, -0.005519628059118986, -0.032703060656785965, 0.1680297553539276, -0.0474596843123436, -0.050016872584819794, -0.0026596549432724714, -0.04104722663760185, -0.07003949582576752, 0.01829591952264309, -0.031431104987859726, -0.047411173582077026, -0.023663606494665146, 0.05944951996207237, -0.07201441377401352, 0.004945215303450823, -0.05532696098089218, 0.08745487034320831, 0.02787269651889801, -0.039772648364305496, 0.034529950469732285, -0.09992029517889023, 0.032897625118494034, -0.0578041635453701, 0.0024546682834625244, -0.027892308309674263, -0.04994703456759453, -0.04058248549699783, 0.011917532421648502, 0.02041907235980034, 0.07765396684408188, 0.06351619213819504, 0.01754690334200859, 0.023460963740944862, -0.007916546426713467, 0.017074210569262505, 0.008641226217150688, -0.06815341114997864, 0.034296195954084396, 0.00064649194246158, 0.02273542992770672, 0.052793651819229126, -0.05857321619987488, -0.09784103184938431, -0.0014718364691361785, 0.137398824095726, 0.0020794528536498547, -0.07581514865159988, 0.05786571279168129, -0.06069646403193474, -0.06595758348703384, -0.03365056589245796, -0.03185924515128136, 0.012266583740711212, 0.09373294562101364, 0.0679951012134552, -0.08434034883975983, 0.044024717062711716, -0.04263869673013687, 0.011163054965436459, 0.10505210608243942, 0.02950582280755043, -0.018521087244153023, -0.029688319191336632, -0.03377029672265053, 0.0014966747257858515, 0.037323690950870514, -0.02024976722896099, 0.05842073634266853, -0.03979162871837616, -0.021219691261649132, 0.006418102420866489, -0.010290177538990974, 0.019626136869192123, 0.003679706249386072, -0.050310950726270676, -0.016897059977054596, 0.04854496568441391, 0.0668230801820755, 0.019536351785063744, 2.7227509123776163e-33, -0.03593411669135094, 0.015661872923374176, 0.0967765599489212, -0.0002851638710126281, -0.009768481366336346, -0.09068471938371658, 0.014486300759017467, 0.012590700760483742, 0.025435833260416985, -0.034434836357831955, 0.004262938164174557, 0.02712140791118145, -0.020409980788826942, 0.0768849104642868, 0.03572101518511772, -0.13492533564567566, 0.05657853186130524, 0.018364528194069862, 0.022577863186597824, -0.03589031845331192, -0.011456688866019249, -0.04993831366300583, -0.0160124059766531, -0.06335372477769852, 0.10463959723711014, -0.08801610767841339, -0.004462330602109432, -0.010301046073436737, -0.017630763351917267, -0.02029227837920189, 0.0067042093724012375, 0.0917234942317009, -0.007795050740242004, 0.005949460435658693, -0.015348806977272034, 0.018279599025845528, -0.018921520560979843, 0.03987526148557663, -0.003967340104281902, 0.03341929614543915, -0.056077249348163605, 0.07581254839897156, -0.0056254505179822445, -0.054455239325761795, 0.06698442250490189, -0.02597436122596264, 0.11199560761451721, -0.03642137348651886, 0.005012589506804943, 0.03200998529791832, 0.04963693767786026, 0.09711597114801407, -0.11546948552131653, 0.06413275003433228, -0.03397876396775246, -0.09291557967662811, 0.04975476115942001, -0.08613418787717819, -0.008366366848349571, -0.013703739270567894, -0.07882803678512573, 0.01965436339378357, -0.037150487303733826, 0.014476152136921883, -0.04940314590930939, 0.05349240079522133, 0.09139014780521393, 0.03100285492837429, 0.030287669971585274, 0.021342808380723, -0.043937746435403824, -0.042974453419446945, -0.0022650465834885836, -0.02194404974579811, 0.0054745483212172985, -0.01024391409009695, 0.02167792245745659, -0.02732364647090435, -0.0007881990750320256, 0.03308916091918945, -0.0074023897759616375, 0.009829945862293243, 0.013544118963181973, -0.032744813710451126, 0.05601907894015312, -0.060116466134786606, 0.03112201578915119, 0.03442245349287987, 0.02655051276087761, -0.006807936821132898, -0.01105421781539917, -0.014439879916608334, 0.022785382345318794, -0.027951963245868683, -0.016209065914154053, -3.689253755225225e-33, 0.029203632846474648, 0.04670485854148865, -0.049644194543361664, 0.06324484199285507, 0.028437985107302666, -0.022357160225510597, 0.03347987309098244, -0.018478741869330406, 0.01878010481595993, 0.002411658875644207, -0.08167839795351028, 0.10084168612957001, 0.04902318865060806, 0.03646733984351158, -0.04556040093302727, -0.07049193978309631, 0.025340478867292404, -0.03267941623926163, -0.042964983731508255, -0.07251021265983582, 0.04130711033940315, 0.05049723759293556, 0.006477142218500376, -0.003324993420392275, -0.08235660940408707, 0.080077163875103, -0.034653905779123306, 0.008470485918223858, 0.04138946160674095, -0.010147652588784695, -0.10289660096168518, 0.0456712581217289, 0.012796069495379925, -0.060177601873874664, -0.02662784792482853, -0.09725235402584076, 0.015798665583133698, 0.07219124585390091, -0.01532581727951765, 0.0018070571823045611, 0.06039538234472275, -0.07077636569738388, -0.0212787427008152, -0.03851627930998802, -0.05741114541888237, -0.004253834020346403, 0.03280765935778618, -0.01759553886950016, 0.04975762590765953, -0.007379045244306326, -0.008354644291102886, 0.04313788563013077, -0.054291531443595886, 0.043162159621715546, 0.023688552901148796, 0.018171587958931923, 0.09282209724187851, -0.004222963936626911, -0.022514568641781807, 0.019288325682282448, -0.03684435039758682, 0.1001519039273262, 0.017764750868082047, 0.022849567234516144, -0.03967685624957085, 0.001680839923210442, 0.05066926032304764, 0.0856492817401886, -0.026413574814796448, -0.03266863152384758, -0.03694953769445419, -0.020993994548916817, 0.017766067758202553, -0.07413069903850555, -0.024688223376870155, -0.039948903024196625, -0.024768004193902016, -0.02419404871761799, -0.010816470719873905, 0.01081602182239294, -0.030551768839359283, 0.10519372671842575, -0.008021783083677292, -0.032896265387535095, 0.14804397523403168, -0.07094292342662811, -0.05021904781460762, -0.15231893956661224, 0.02276746556162834, 0.13845954835414886, -0.07923310995101929, -0.04160107299685478, -0.09371679276227951, 0.06601830571889877, 0.04352038726210594, -4.9979700378344205e-08, -0.010548046790063381, 0.06008029356598854, 0.028823496773838997, 0.07072243094444275, 0.03157534450292587, -0.05913804844021797, 0.05488339811563492, 0.16316646337509155, 0.03475946560502052, 0.027875440195202827, 0.07126773148775101, -0.0069463723339140415, -0.0529044084250927, 0.011619007214903831, -0.026834968477487564, 0.02895435132086277, 0.04344695061445236, -0.07012004405260086, -0.05879400670528412, -0.03921941667795181, -0.01729392632842064, -0.030054492875933647, -0.08112527430057526, -0.045062121003866196, 0.05249616503715515, -0.049235694110393524, 0.08052123337984085, 0.06585504859685898, -0.0006080991006456316, -0.045664120465517044, 0.030586954206228256, -0.006386063527315855, -0.03175576403737068, 0.008228839375078678, 0.010760997422039509, 0.0010412984993308783, 0.019078660756349564, 0.032279908657073975, -0.014408755116164684, 0.03579796105623245, -0.0722818598151207, 0.03363298624753952, 0.0066636111587285995, -0.018206261098384857, -0.020436229184269905, -0.002635361859574914, -0.1854771375656128, 0.012449280358850956, 0.02973136678338051, -0.038548488169908524, -0.009753341786563396, -0.013694350607693195, 0.009183337911963463, 0.08488922566175461, 0.1272188127040863, 0.05545995011925697, -0.049361661076545715, -0.011912007816135883, -0.05697930231690407, 0.10420085489749908, 0.057180631905794144, -0.10395049303770065, -0.023767851293087006, -0.027168966829776764]]\n"
     ]
    }
   ],
   "source": [
    "print(my_embedding_function([token_split_texts[10]]))"
   ]
  },
  {
   "cell_type": "code",
   "execution_count": null,
   "metadata": {},
   "outputs": [
    {
     "data": {
      "text/plain": [
       "349"
      ]
     },
     "execution_count": 26,
     "metadata": {},
     "output_type": "execute_result"
    }
   ],
   "source": [
    "chroma_client = chromadb.Client()\n",
    "\n",
    "# Use this line if the colletion already exists\n",
    "#chroma_client.delete_collection('MicrosoftAnnualReport')\n",
    "\n",
    "chroma_collection = chroma_client.create_collection(\n",
    "    \"MicrosoftAnnualReport\", embedding_function=my_embedding_function)\n",
    "\n",
    "ids = [str(i) for i in range(len(token_split_texts))]\n",
    "\n",
    "# The .add method will embedd the token_split_texts using the embedding_function specified above\n",
    "\n",
    "chroma_collection.add(ids=ids, documents=token_split_texts)\n",
    "\n",
    "chroma_collection.count()"
   ]
  },
  {
   "cell_type": "code",
   "execution_count": 31,
   "metadata": {},
   "outputs": [
    {
     "name": "stdout",
     "output_type": "stream",
     "text": [
      "vigorously, adverse outcomes that we estimate could reach approximately $ 600 million in aggregate beyond recorded amounts are reasonably possible. were unfavorable final outcomes to occur, there exists the possibility of a material adverse impact in our consolidated financial statements for the period in which the effects become reasonably estimable.\n",
      "\n",
      "\n",
      "occurs shortly before the products are released to production. the amortization of these costs is included in cost of revenue over the estimated life of the products. legal and other contingencies the outcomes of legal proceedings and claims brought against us are subject to significant uncertainty. an estimated loss from a loss contingency such as a legal proceeding or claim is accrued by a charge to income if it is probable that an asset has been impaired or a liability has been incurred and the amount of the loss can be reasonably estimated. in determining whether a loss should be accrued we evaluate, among other factors, the degree of probability of an unfavorable outcome and the ability to make a reasonable estimate of the amount of loss. changes in these factors could materially impact our consolidated financial statements.\n",
      "\n",
      "\n",
      "equity 10 % decrease in equity market prices ( 637 ) earnings\n",
      "\n",
      "\n",
      "43 judgment, we employ a systematic methodology that considers available quantitative and qualitative evidence in evaluating potential impairment of our investments. in addition, we consider specific adverse conditions related to the financial health of, and business outlook for, the investee. if we have plans to sell the security or it is more likely than not that we will be required to sell the security before recovery, then a decline in fair value below cost is recorded as an impairment charge in other income ( expense ), net and a new cost basis in the investment is established. if market, industry, and / or investee conditions deteriorate, we may incur future impairments. equity investments without readily determinable fair values are written down to fair value if a qualitative assessment indicates that the investment is impaired and the fair value of the investment is less than carrying value. we perform a\n",
      "\n",
      "\n",
      "63 less than 12 months 12 months or greater total unrealized losses ( in millions ) fair value unrealized losses fair value unrealized losses total fair value june 30, 2021 u. s. government and agency securities $ 5, 294 $ ( 111 ) $ 0 $ 0 $ 5, 294 $ ( 111 ) foreign government bonds 3, 148 ( 1 ) 5 ( 1 ) 3, 153 ( 2 ) mortgage - and asset - backed securities 1, 211 ( 5 ) 87 ( 1 ) 1, 298 ( 6 ) corporate notes and bonds 1, 678 ( 8 ) 34 ( 1 ) 1, 712 ( 9 ) municipal securities 58 ( 7 ) 1 0 59 ( 7 ) total $ 11, 389 $ ( 132 ) $ 127 $ ( 3 ) $ 11, 516 $ ( 135 ) unrealized losses from fixed - income securities are primarily attributable to changes in interest rates. management does not believe any remaining unrealized losses represent impairments based on our evaluation of available evidence. debt investment maturities\n",
      "\n",
      "\n"
     ]
    }
   ],
   "source": [
    "my_query = \"What was the worst thing that happened?\" #total revenue?\"\n",
    "\n",
    "results = chroma_collection.query(query_texts=[my_query], n_results=5)\n",
    "\n",
    "# Under the hood the .query() method will embedd the query using the same embedding funtion used when adding the documents. \n",
    "# Here is where chroma_db searchs for the documents that look similar to the query and then return some documents (5 here)\n",
    "\n",
    "retrieved_documents = results['documents'][0]\n",
    "\n",
    "for document in retrieved_documents:\n",
    "    print(document)\n",
    "    print('\\n')"
   ]
  },
  {
   "cell_type": "code",
   "execution_count": 37,
   "metadata": {},
   "outputs": [],
   "source": [
    "import os\n",
    "from openai import OpenAI\n",
    "from dotenv import load_dotenv, find_dotenv\n",
    "\n",
    "# Load environment variables\n",
    "_ = load_dotenv(find_dotenv())  # Read local .env file\n",
    "\n",
    "# Initialize OpenAI client\n",
    "openai_client = OpenAI()"
   ]
  },
  {
   "cell_type": "code",
   "execution_count": 38,
   "metadata": {},
   "outputs": [],
   "source": [
    "def rag(query, retrieved_documents, model=\"gpt-4-turbo\"):\n",
    "    information = \"\\n\\n\".join(retrieved_documents)\n",
    "\n",
    "    messages = [\n",
    "        {\n",
    "            \"role\": \"system\",\n",
    "            \"content\": (\n",
    "                \"You are a helpful expert financial research assistant. \"\n",
    "                \"Your users are asking questions about information contained in an annual report. \"\n",
    "                \"You will be shown the user's question and relevant excerpts from the report. \"\n",
    "                \"Answer the user's question **using only this information**. \"\n",
    "                \"If the information is insufficient, say so.\"\n",
    "            ),\n",
    "        },\n",
    "        {\n",
    "            \"role\": \"user\",\n",
    "            \"content\": f\"Question: {query}\\n\\nRelevant Information:\\n{information}\",\n",
    "        },\n",
    "    ]\n",
    "  \n",
    "    response = openai_client.chat.completions.create(\n",
    "        model=model,\n",
    "        messages=messages,\n",
    "        temperature=0,  # Lower temperature for more deterministic responses\n",
    "        max_tokens=1024,  # Adjust based on needs\n",
    "    )\n",
    "\n",
    "    return response.choices[0].message.content"
   ]
  },
  {
   "cell_type": "code",
   "execution_count": null,
   "metadata": {},
   "outputs": [
    {
     "name": "stdout",
     "output_type": "stream",
     "text": [
      "Based on the information provided, the worst thing that happened appears to be the potential for adverse outcomes from legal proceedings and claims, which could reach approximately $600 million in aggregate beyond recorded amounts. This situation is described as having the possibility of a material adverse impact on the consolidated financial statements if unfavorable outcomes occur and the effects become reasonably estimable. This represents a significant financial risk and uncertainty for the company.\n"
     ]
    }
   ],
   "source": [
    "output = rag(query=my_query, retrieved_documents=retrieved_documents)\n",
    "\n",
    "print(output)"
   ]
  }
 ],
 "metadata": {
  "kernelspec": {
   "display_name": "env",
   "language": "python",
   "name": "python3"
  },
  "language_info": {
   "codemirror_mode": {
    "name": "ipython",
    "version": 3
   },
   "file_extension": ".py",
   "mimetype": "text/x-python",
   "name": "python",
   "nbconvert_exporter": "python",
   "pygments_lexer": "ipython3",
   "version": "3.11.4"
  }
 },
 "nbformat": 4,
 "nbformat_minor": 2
}
