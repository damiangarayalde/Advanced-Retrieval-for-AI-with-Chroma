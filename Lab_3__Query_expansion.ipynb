{
 "cells": [
  {
   "cell_type": "markdown",
   "metadata": {},
   "source": [
    "# Lab 3 - Query Expansion"
   ]
  },
  {
   "cell_type": "code",
   "execution_count": 13,
   "metadata": {},
   "outputs": [
    {
     "data": {
      "text/plain": [
       "349"
      ]
     },
     "execution_count": 13,
     "metadata": {},
     "output_type": "execute_result"
    }
   ],
   "source": [
    "# This cell is the same as Lab 1 till we create the collection collapsed into a single block\n",
    "\n",
    "import chromadb\n",
    "from chromadb.utils.embedding_functions import SentenceTransformerEmbeddingFunction\n",
    "\n",
    "from pypdf import PdfReader\n",
    "from langchain.text_splitter import RecursiveCharacterTextSplitter, SentenceTransformersTokenTextSplitter\n",
    "\n",
    "reader = PdfReader(\"microsoft_annual_report_2022.pdf\")\n",
    "\n",
    "pdf_texts = [p.extract_text().strip() for p in reader.pages]\n",
    "\n",
    "pdf_texts = [text for text in pdf_texts if text]  # Filter the empty strings\n",
    "\n",
    "character_splitter = RecursiveCharacterTextSplitter(\n",
    "    separators=[\"\\n\\n\", \"\\n\", \". \", \" \", \"\"],\n",
    "    chunk_size=1000,\n",
    "    chunk_overlap=0\n",
    ")\n",
    "character_split_texts = character_splitter.split_text('\\n\\n'.join(pdf_texts))\n",
    "\n",
    "token_splitter = SentenceTransformersTokenTextSplitter(chunk_overlap=0, tokens_per_chunk=256)\n",
    "\n",
    "token_split_texts = []\n",
    "for text in character_split_texts:\n",
    "    token_split_texts += token_splitter.split_text(text)\n",
    "   \n",
    "\n",
    "embedding_function = SentenceTransformerEmbeddingFunction()\n",
    "\n",
    "chroma_client = chromadb.Client()\n",
    "\n",
    "\n",
    "# Use this line if the colletion already exists\n",
    "chroma_client.delete_collection('MicrosoftAnnualReport')\n",
    "\n",
    "chroma_collection = chroma_client.create_collection(\"MicrosoftAnnualReport\", embedding_function=embedding_function)\n",
    "\n",
    "ids = [str(i) for i in range(len(token_split_texts))]\n",
    "\n",
    "chroma_collection.add(ids=ids, documents=token_split_texts)\n",
    "\n",
    "chroma_collection.count()"
   ]
  },
  {
   "cell_type": "code",
   "execution_count": 14,
   "metadata": {},
   "outputs": [
    {
     "name": "stderr",
     "output_type": "stream",
     "text": [
      "/Users/damiangarayalde/Desktop/Work - Github Repos/AI/Advanced Retrieval for AI with Chroma/env/lib/python3.11/site-packages/umap/umap_.py:1943: UserWarning: n_jobs value -1 overridden to 1 by setting random_state. Use no seed for parallelism.\n",
      "  warn(f\"n_jobs value {self.n_jobs} overridden to 1 by setting random_state. Use no seed for parallelism.\")\n"
     ]
    }
   ],
   "source": [
    "# This cell is the same as Lab 2 till we define the project_embeddings method\n",
    "\n",
    "import umap\n",
    "import numpy as np\n",
    "from tqdm import tqdm\n",
    "\n",
    "embeddings = chroma_collection.get(include=['embeddings'])['embeddings']\n",
    "umap_transform = umap.UMAP(random_state=0, transform_seed=0).fit(embeddings)\n",
    "\n",
    "def project_embeddings(embeddings, umap_transform):\n",
    "    umap_embeddings = np.empty((len(embeddings),2))\n",
    "    for i, embedding in enumerate(tqdm(embeddings)): \n",
    "        umap_embeddings[i] = umap_transform.transform([embedding])\n",
    "    return umap_embeddings   "
   ]
  },
  {
   "cell_type": "code",
   "execution_count": 15,
   "metadata": {},
   "outputs": [
    {
     "name": "stderr",
     "output_type": "stream",
     "text": [
      "100%|██████████| 349/349 [01:33<00:00,  3.75it/s]\n"
     ]
    }
   ],
   "source": [
    "projected_dataset_embeddings = project_embeddings(embeddings, umap_transform)"
   ]
  },
  {
   "cell_type": "code",
   "execution_count": 17,
   "metadata": {},
   "outputs": [],
   "source": [
    "import os\n",
    "from openai import OpenAI\n",
    "from dotenv import load_dotenv, find_dotenv\n",
    "\n",
    "# Load environment variables\n",
    "_ = load_dotenv(find_dotenv())  # Read local .env file\n",
    "\n",
    "# Initialize OpenAI client\n",
    "openai_client = OpenAI()"
   ]
  },
  {
   "cell_type": "markdown",
   "metadata": {},
   "source": [
    "## Expansion with generated answers\n",
    "\n",
    "https://arxiv.org/abs/2305.03653"
   ]
  },
  {
   "cell_type": "code",
   "execution_count": 18,
   "metadata": {},
   "outputs": [],
   "source": [
    "def augment_query_generated(query, model=\"gpt-4-turbo\"):\n",
    "\n",
    "    messages = [\n",
    "        {\n",
    "            \"role\": \"system\",\n",
    "            \"content\": (\n",
    "                        \"You are a helpful expert financial research assistant.\"\n",
    "                        \"Provide an example answer to the given question, that might be found in a document like an annual report. \"\n",
    "            ),\n",
    "        },\n",
    "        {\"role\": \"user\", \"content\": query}\n",
    "    ] \n",
    "\n",
    "    response = openai_client.chat.completions.create(\n",
    "        model=model,\n",
    "        messages=messages,\n",
    "    )\n",
    "    content = response.choices[0].message.content\n",
    "    return content"
   ]
  },
  {
   "cell_type": "code",
   "execution_count": 19,
   "metadata": {},
   "outputs": [
    {
     "name": "stdout",
     "output_type": "stream",
     "text": [
      "How to ask good questions?: Asking good questions is essential for acquiring accurate and relevant information, enhancing understanding, and fostering effective communication. Here are several strategies that can lead to the formulation of effective questions:\n",
      "\n",
      "1. **Be Clear and Concise**: Ensure that your question is straightforward and to the point. Avoid unnecessary complexity that could lead to misunderstandings. Clarity helps the respondent provide the precise information you need.\n",
      "\n",
      "2. **Be Specific**: General questions can lead to broad answers that might not meet your information needs. Specify the information you are interested in to guide the responses more directly towards your actual requirements.\n",
      "\n",
      "3. **Do Your Research**: Familiarize yourself with the basic information surrounding your topic. This preparation allows you to ask more informed, detailed questions and shows respect for the respondent's time and effort.\n",
      "\n",
      "4. **Open-Ended vs. Closed-Ended**: Decide what type of information you desire. Use open-ended questions to encourage detailed responses, explanations, and discussions. Use closed-ended questions when you need specific, concise data or a confirmation.\n",
      "\n",
      "5. **Prioritize Your Questions**: Organize your questions in a logical sequence, starting with broader questions before moving to more specific inquiries. This approach not only aids in building a comprehensive understanding but also keeps the conversation flowing logically and naturally.\n",
      "\n",
      "6. **Be Objective and Open-Minded**: Frame your questions in a way that doesn’t lead the answer in a particular direction. This neutrality allows for unbiased, truthful responses that can provide insights you may not have considered.\n",
      "\n",
      "7. **Adjust Your Questions Based on Audience**: Tailor your questions to suit the expertise level of the audience or individual being questioned. This customization ensures that your questions are understandable and relevant to the respondent, encouraging more accurate and useful responses.\n",
      "\n",
      "8. **Request Examples or Clarifications**: If an answer is unclear or too complex, don’t hesitate to ask for specific examples or further clarification. This not only helps deepen your understanding but also ensures that the information is as useful as possible.\n",
      "\n",
      "Implementing these strategies when formulating questions can greatly enhance the quality of information and interaction you experience in your personal, academic, or professional endeavors.\n"
     ]
    }
   ],
   "source": [
    "original_query      = \"How to ask good questions?\"\n",
    "hypothetical_answer = augment_query_generated(original_query)\n",
    "\n",
    "joint_query = f\"{original_query}: {hypothetical_answer}\"\n",
    "\n",
    "print(joint_query)"
   ]
  },
  {
   "cell_type": "code",
   "execution_count": 20,
   "metadata": {},
   "outputs": [
    {
     "name": "stdout",
     "output_type": "stream",
     "text": [
      "45 statement of management ’ s responsibility for financial statements management is responsible for the preparation of the consolidated financial statements and related information that are presented in this report. the consolidated financial statements, which include amounts based on management ’ s estimates and judgments, have been prepared in conformity with accounting principles generally accepted in the united states of america. the company designs and maintains accounting and internal control systems to provide reasonable assurance at reasonable cost that assets are safeguarded against loss from unauthorized use or disposition, and that the financial records are reliable for preparing consolidated financial statements and maintaining accountability for assets. these systems are augmented by written policies, an organizational structure providing division of responsibilities, careful selection and training of qualified personnel, and a program of internal audits.\n",
      "\n",
      "52 notes to financial statements note 1 — accounting policies accounting principles our consolidated financial statements and accompanying notes are prepared in accordance with accounting principles generally accepted in the united states of america ( “ gaap ” ). we have recast certain prior period amounts to conform to the current period presentation. the recast of these prior period amounts had no impact on our consolidated balance sheets, consolidated income statements, or consolidated cash flows statements. principles of consolidation the consolidated financial statements include the accounts of microsoft corporation and its subsidiaries. intercompany transactions and balances have been eliminated. estimates and assumptions preparing financial statements requires management to make estimates and assumptions that affect the reported amounts of assets, liabilities, revenue, and expenses. examples of estimates and assumptions include : for revenue\n",
      "\n",
      "87 changes in and disagreements with accountants on accounting and financial disclosure not applicable. controls and procedures under the supervision and with the participation of our management, including the chief executive officer and chief financial officer, we have evaluated the effectiveness of our disclosure controls and procedures as required by exchange act rule 13a - 15 ( b ) as of the end of the period covered by this report. based on that evaluation, the chief executive officer and chief financial officer have concluded that these disclosure controls and procedures are effective. report of management on internal control over financial reporting our management is responsible for establishing and maintaining adequate internal control over financial reporting for the company. internal control over financial reporting is a process to provide reasonable assurance regarding the reliability of\n",
      "\n",
      "our business can deliver success. operating segments we operate our business and report our financial performance using three segments : productivity and business processes, intelligent cloud, and more personal computing. our segments provide management with a comprehensive financial view of our key businesses. the segments enable the alignment of strategies and objectives across the development, sales, marketing, and services organizations, and they provide a framework for timely and rational allocation of resources within businesses. additional information on our operating segments and geographic and product information is contained in note 19 – segment information and geographic data of the notes to financial statements in our fiscal year 2022 form 10 - k. our reportable segments are described below.\n",
      "\n",
      "vendors either provide a quoted market price in an active market or use observable inputs for their pricing without applying significant adjustments. broker pricing is used mainly when a quoted price is not available, the investment is not priced by our pricing vendors, or when a broker price is more reflective of fair values in the market in which the investment trades. our broker - priced investments are generally classified as level 2 investments because the broker prices these investments based on similar assets without applying significant adjustments. in addition, all our broker - priced investments have a sufficient level of trading volume to demonstrate that the fair values used are appropriate for these investments. our fair value processes include controls that are designed to ensure appropriate fair values are recorded. these controls include model validation, review of key model inputs, analysis of period - over - period fluctuations, and\n",
      "\n"
     ]
    }
   ],
   "source": [
    "results = chroma_collection.query(query_texts=joint_query, n_results=5, include=['documents', 'embeddings'])\n",
    "retrieved_documents = results['documents'][0]\n",
    "\n",
    "for doc in retrieved_documents:\n",
    "    print(doc)\n",
    "    print('')"
   ]
  },
  {
   "cell_type": "code",
   "execution_count": 21,
   "metadata": {},
   "outputs": [
    {
     "name": "stderr",
     "output_type": "stream",
     "text": [
      "100%|██████████| 1/1 [00:00<00:00,  3.63it/s]\n",
      "100%|██████████| 1/1 [00:00<00:00,  2.48it/s]\n",
      "100%|██████████| 5/5 [00:01<00:00,  4.13it/s]\n"
     ]
    }
   ],
   "source": [
    "retrieved_embeddings = results['embeddings'][0]\n",
    "original_query_embedding = embedding_function([original_query])\n",
    "augmented_query_embedding = embedding_function([joint_query])\n",
    "\n",
    "projected_original_query_embedding  = project_embeddings(original_query_embedding, umap_transform)\n",
    "projected_augmented_query_embedding = project_embeddings(augmented_query_embedding, umap_transform)\n",
    "projected_retrieved_embeddings      = project_embeddings(retrieved_embeddings, umap_transform)"
   ]
  },
  {
   "cell_type": "code",
   "execution_count": 22,
   "metadata": {},
   "outputs": [
    {
     "data": {
      "text/plain": [
       "(-3.060415196418762, 7.524823594093323, 1.0972334742546082, 8.713089048862457)"
      ]
     },
     "execution_count": 22,
     "metadata": {},
     "output_type": "execute_result"
    },
    {
     "data": {
      "image/png": "[encoded data removed]",
      "text/plain": [
       "<Figure size 640x480 with 1 Axes>"
      ]
     },
     "metadata": {},
     "output_type": "display_data"
    }
   ],
   "source": [
    "import matplotlib.pyplot as plt\n",
    "\n",
    "# Plot the projected query and retrieved documents in the embedding space\n",
    "plt.figure()\n",
    "plt.scatter(projected_dataset_embeddings[:, 0], projected_dataset_embeddings[:, 1], s=10, color='gray')\n",
    "plt.scatter(projected_retrieved_embeddings[:, 0], projected_retrieved_embeddings[:, 1], s=100, facecolors='none', edgecolors='g')\n",
    "plt.scatter(projected_original_query_embedding[:, 0], projected_original_query_embedding[:, 1], s=150, marker='X', color='r')\n",
    "plt.scatter(projected_augmented_query_embedding[:, 0], projected_augmented_query_embedding[:, 1], s=150, marker='X', color='orange')\n",
    "\n",
    "plt.gca().set_aspect('equal', 'datalim')\n",
    "plt.title(f'{original_query}')\n",
    "plt.axis('off')"
   ]
  },
  {
   "cell_type": "markdown",
   "metadata": {},
   "source": [
    "## Expansion with multiple queries\n"
   ]
  },
  {
   "cell_type": "code",
   "execution_count": 23,
   "metadata": {},
   "outputs": [],
   "source": [
    "def augment_multiple_query(query, model=\"gpt-4-turbo\"):\n",
    "    messages = [\n",
    "        {\n",
    "            \"role\": \"system\",\n",
    "            \"content\": \"You are a helpful expert financial research assistant. Your users are asking questions about an annual report. \"\n",
    "            \"Suggest up to five additional related questions to help them find the information they need, for the provided question. \"\n",
    "            \"Suggest only short questions without compound sentences. Suggest a variety of questions that cover different aspects of the topic.\"\n",
    "            \"Make sure they are complete questions, and that they are related to the original question.\"\n",
    "            \"Output one question per line. Do not number the questions.\"\n",
    "        },\n",
    "        {\"role\": \"user\", \"content\": query}\n",
    "    ]\n",
    "\n",
    "    response = openai_client.chat.completions.create(\n",
    "        model=model,\n",
    "        messages=messages,\n",
    "    )\n",
    "    content = response.choices[0].message.content\n",
    "    content = content.split(\"\\n\")\n",
    "    return content"
   ]
  },
  {
   "cell_type": "code",
   "execution_count": 24,
   "metadata": {},
   "outputs": [
    {
     "name": "stdout",
     "output_type": "stream",
     "text": [
      "What new products or services were launched last year?\n",
      "What changes were made to the pricing strategy?\n",
      "How did market expansion impact revenue growth?\n",
      "What was the role of acquisitions in revenue growth?\n",
      "How did customer retention rates change during the year?\n"
     ]
    }
   ],
   "source": [
    "original_query = \"What were the most important factors that contributed to increases in revenue?\"\n",
    "augmented_queries = augment_multiple_query(original_query)\n",
    "\n",
    "for query in augmented_queries:\n",
    "    print(query)"
   ]
  },
  {
   "cell_type": "code",
   "execution_count": 25,
   "metadata": {},
   "outputs": [
    {
     "name": "stdout",
     "output_type": "stream",
     "text": [
      "Query: What were the most important factors that contributed to increases in revenue?\n",
      "\n",
      "Results:\n",
      "engineering, gaming, and linkedin. • sales and marketing expenses increased $ 1. 7 billion or 8 % driven by investments in commercial sales and linkedin. sales and marketing included a favorable foreign currency impact of 2 %. • general and administrative expenses increased $ 793 million or 16 % driven by investments in corporate functions. operating income increased $ 13. 5 billion or 19 % driven by growth across each of our segments. current year net income and diluted eps were positively impacted by the net tax benefit related to the transfer of intangible properties, which resulted in an increase to net income and diluted eps of $ 3. 3 billion and $ 0. 44, respectively. prior year net income and diluted eps were positively impacted by the net tax benefit related to the india supreme court decision on withholding taxes, which resulted in an increase to net income and diluted eps of $ 620 million and $ 0. 08, respectively.\n",
      "\n",
      "independent recalculation of prices where appropriate. cash flows cash from operations increased $ 12. 3 billion to $ 89. 0 billion for fiscal year 2022, mainly due to an increase in cash received from customers, offset in part by an increase in cash paid to suppliers and employees. cash used in financing increased $ 10. 4 billion to $ 58. 9 billion for fiscal year 2022, mainly due to a $ 5. 3 billion increase in common stock repurchases and a $ 5. 3 billion increase in repayments of debt. cash used in investing increased $ 2. 7 billion to $ 30. 3 billion for fiscal year 2022, mainly due to a $ 13. 1 billion increase in cash used for acquisitions of companies, net of cash acquired, and purchases of intangible and other assets, and a $ 3. 3 billion increase in additions to property and equipment, offset in part by a $ 15. 6 billion increase in cash from net investment purchases, sales, and maturities.\n",
      "\n",
      "37 general and administrative expenses include payroll, employee benefits, stock - based compensation expense, and other headcount - related expenses associated with finance, legal, facilities, certain human resources and other administrative personnel, certain taxes, and legal and other administrative fees. general and administrative expenses increased $ 793 million or 16 % driven by investments in corporate functions. other income ( expense ), net the components of other income ( expense ), net were as follows : ( in millions ) year ended june 30, 2022 2021 interest and dividends income $ 2, 094 $ 2, 131 interest expense ( 2, 063 ) ( 2, 346 ) net recognized gains on investments 461 1, 232 net gains ( losses ) on derivatives ( 52 ) 17 net gains ( losses ) on foreign currency remeasurements ( 75 ) 54 other, net ( 32 ) 98 total $ 333 $ 1, 186\n",
      "\n",
      "• windows revenue increased $ 2. 3 billion or 10 % driven by growth in windows oem and windows commercial. windows oem revenue increased 11 % driven by continued strength in the commercial pc market, which has higher revenue per license. windows commercial products and cloud services revenue increased 11 % driven by demand for microsoft 365.\n",
      "\n",
      "36 • search and news advertising revenue increased $ 2. 3 billion or 25 %. search and news advertising revenue excluding traffic acquisition costs increased 27 % driven by higher revenue per search and search volume. • gaming revenue increased $ 860 million or 6 % on a strong prior year comparable that benefited from xbox series x | s launches and stay - at - home scenarios, driven by growth in xbox hardware and xbox content and services. xbox hardware revenue increased 16 % due to continued demand for xbox series x | s. xbox content and services revenue increased 3 % driven by growth in xbox game pass subscriptions and first - party content, offset in part by a decline in third - party content. • surface revenue increased $ 226 million or 3 %. operating income increased $ 1. 5 billion or 8 %. • gross margin increased $ 3. 1 billion or 10 % driven by growth in windows and search and news advertising. gross margin percentage was relatively unchanged.\n",
      "\n",
      "----------------------------------------------------------------------------------------------------\n",
      "Query: What new products or services were launched last year?\n",
      "\n",
      "Results:\n",
      "31 industry trends our industry is dynamic and highly competitive, with frequent changes in both technologies and business models. each industry shift is an opportunity to conceive new products, new technologies, or new ideas that can further transform the industry and our business. at microsoft, we push the boundaries of what is possible through a broad range of research and development activities that seek to identify and address the changing demands of customers and users, industry trends, and competitive forces. economic conditions, challenges, and risks the markets for software, devices, and cloud - based services are dynamic and highly competitive. our competitors are developing new software and devices, while also deploying competing cloud - based services for consumers and businesses. the devices and form factors customers prefer evolve rapidly, and influence how users access services in\n",
      "\n",
      "our success is based on our ability to create new and compelling products, services, and experiences for our users, to initiate and embrace disruptive technology trends, to enter new geographic and product markets, and to drive broad adoption of our products and services. we invest in a range of emerging technology trends and breakthroughs that we believe offer significant opportunities to deliver value to our customers and growth for the company. based on our assessment of key technology trends, we maintain our long - term commitment to research and development across a wide spectrum of technologies, tools, and platforms spanning digital work and life experiences, cloud computing, ai, devices, and operating systems. while our main product research and development facilities are located in redmond, washington, we also operate research and development facilities in other parts of the u. s. and around the world. this global approach helps us remain\n",
      "\n",
      "revenue, classified by significant product and service offerings, was as follows : ( in millions ) year ended june 30, 2022 2021 2020 server products and cloud services $ 67, 321 $ 52, 589 $ 41, 379 office products and cloud services 44, 862 39, 872 35, 316 windows 24, 761 22, 488 21, 510 gaming 16, 230 15, 370 11, 575 linkedin 13, 816 10, 289 8, 077 search and news advertising 11, 591 9, 267 8, 524 enterprise services 7, 407 6, 943 6, 409 devices 6, 991 6, 791 6, 457 other 5, 291 4, 479 3, 768 total $ 198, 270 $ 168, 088 $ 143, 015 we have recast certain previously reported amounts in the table above to conform to the way we internally manage and monitor our business.\n",
      "\n",
      "highlights from fiscal year 2022 compared with fiscal year 2021 included : • microsoft cloud ( formerly commercial cloud ) revenue increased 32 % to $ 91. 2 billion. • office commercial products and cloud services revenue increased 13 % driven by office 365 commercial growth of 18 %. • office consumer products and cloud services revenue increased 11 % and microsoft 365 consumer subscribers grew to 59. 7 million. • linkedin revenue increased 34 %. • dynamics products and cloud services revenue increased 25 % driven by dynamics 365 growth of 39 %. • server products and cloud services revenue increased 28 % driven by azure and other cloud services growth of 45 %. • windows original equipment manufacturer licensing ( “ windows oem ” ) revenue increased 11 %. • windows commercial products and cloud services revenue increased 11 %. • xbox content and services revenue increased 3 %. • search and news advertising revenue excluding traffic acquisition costs increased 27 %.\n",
      "\n",
      "12 we offer an array of services, including cloud - based solutions that provide customers with software, services, platforms, and content, and we provide solution support and consulting services. we also deliver relevant online advertising to a global audience. our products include operating systems, cross - device productivity and collaboration applications, server applications, business solution applications, desktop and server management tools, software development tools, and video games. we also design and sell devices, including pcs, tablets, gaming and entertainment consoles, other intelligent devices, and related accessories. the ambitions that drive us to achieve our vision, our research and development efforts focus on three interconnected ambitions : • reinvent productivity and business processes. • build the intelligent cloud and intelligent edge platform. • create more personal computing. reinvent productivity and business processes\n",
      "\n",
      "----------------------------------------------------------------------------------------------------\n",
      "Query: What changes were made to the pricing strategy?\n",
      "\n",
      "Results:\n",
      "investments are determined based on valuation techniques using the best information available, and may include quoted market prices, market comparables, and discounted cash flow projections. inventories inventories are stated at average cost, subject to the lower of cost or net realizable value. cost includes materials, labor, and manufacturing overhead related to the purchase and production of inventories. net realizable value is the estimated selling price less estimated costs of completion, disposal, and transportation. we regularly review inventory quantities on hand, future purchase commitments with our suppliers, and the estimated utility of our inventory. if our review indicates a reduction in utility below carrying value, we reduce our inventory to a new cost basis through a charge to cost of revenue. property and equipment property and equipment is stated at cost less accumulated depreciation, and depreciated using the straight - line method\n",
      "\n",
      "financial results of nuance have been included in our consolidated financial statements since the date of the acquisition. nuance is reported as part of our intelligent cloud segment. the purchase price allocation as of the date of acquisition was based on a preliminary valuation and is subject to revision as more detailed analyses are completed and additional information about the fair value of assets acquired and liabilities assumed becomes available.\n",
      "\n",
      "processes $ 24, 190 $ 0 $ 127 $ 24, 317 $ 599 $ ( 105 ) $ 24, 811 intelligent cloud 12, 697 505 54 13, 256 16, 879 ( b ) 47 ( b ) 30, 182 more personal computing 6, 464 5, 556 ( a ) 118 ( a ) 12, 138 648 ( 255 ) 12, 531 total $ 43, 351 $ 6, 061 $ 299 $ 49, 711 $ 18, 126 $ ( 313 ) $ 67, 524 ( a ) includes goodwill of $ 5. 5 billion related to zenimax. see note 8 – business combinations for further information. ( b ) includes goodwill of $ 16. 3 billion related to nuance. see note 8 – business combinations for further information. the measurement periods for the valuation of assets acquired and liabilities assumed end as soon as information on the facts and circumstances that existed as of the acquisition dates becomes available, but do not exceed 12 months. adjustments in purchase price allocations may require a change in the amounts allocated to goodwill during the periods in\n",
      "\n",
      "that are not sold separately. • we tested the mathematical accuracy of management ’ s calculations of revenue and the associated timing of revenue recognized in the financial statements.\n",
      "\n",
      "no additional charge. we use a range of amounts to estimate ssp when we sell each of the products and services separately and need to determine whether there is a discount to be allocated based on the relative ssp of the various products and services. in instances where ssp is not directly observable, such as when we do not sell the product or service separately, we determine the ssp using information that may include market conditions and other observable inputs. we typically have more than one ssp for individual products and services due to the stratification of those products and services by customers and circumstances. in these instances, we may use information such as the size of the customer and geographic region in determining the ssp. due to the various benefits from and the nature of our sa program, judgment is required to assess the pattern of delivery, including the exercise pattern of certain benefits across our portfolio of customers.\n",
      "\n",
      "----------------------------------------------------------------------------------------------------\n",
      "Query: How did market expansion impact revenue growth?\n",
      "\n",
      "Results:\n",
      "35 reportable segments fiscal year 2022 compared with fiscal year 2021 productivity and business processes revenue increased $ 9. 4 billion or 18 %. • office commercial products and cloud services revenue increased $ 4. 4 billion or 13 %. office 365 commercial revenue grew 18 % driven by seat growth of 14 %, with continued momentum in small and medium business and frontline worker offerings, as well as growth in revenue per user. office commercial products revenue declined 22 % driven by continued customer shift to cloud offerings. • office consumer products and cloud services revenue increased $ 641 million or 11 % driven by microsoft 365 consumer subscription revenue. microsoft 365 consumer subscribers grew 15 % to 59. 7 million. • linkedin revenue increased $ 3. 5 billion or 34 % driven by a strong job market in our talent solutions business and advertising demand in our marketing solutions business.\n",
      "\n",
      "36 • search and news advertising revenue increased $ 2. 3 billion or 25 %. search and news advertising revenue excluding traffic acquisition costs increased 27 % driven by higher revenue per search and search volume. • gaming revenue increased $ 860 million or 6 % on a strong prior year comparable that benefited from xbox series x | s launches and stay - at - home scenarios, driven by growth in xbox hardware and xbox content and services. xbox hardware revenue increased 16 % due to continued demand for xbox series x | s. xbox content and services revenue increased 3 % driven by growth in xbox game pass subscriptions and first - party content, offset in part by a decline in third - party content. • surface revenue increased $ 226 million or 3 %. operating income increased $ 1. 5 billion or 8 %. • gross margin increased $ 3. 1 billion or 10 % driven by growth in windows and search and news advertising. gross margin percentage was relatively unchanged.\n",
      "\n",
      "engineering, gaming, and linkedin. • sales and marketing expenses increased $ 1. 7 billion or 8 % driven by investments in commercial sales and linkedin. sales and marketing included a favorable foreign currency impact of 2 %. • general and administrative expenses increased $ 793 million or 16 % driven by investments in corporate functions. operating income increased $ 13. 5 billion or 19 % driven by growth across each of our segments. current year net income and diluted eps were positively impacted by the net tax benefit related to the transfer of intangible properties, which resulted in an increase to net income and diluted eps of $ 3. 3 billion and $ 0. 44, respectively. prior year net income and diluted eps were positively impacted by the net tax benefit related to the india supreme court decision on withholding taxes, which resulted in an increase to net income and diluted eps of $ 620 million and $ 0. 08, respectively.\n",
      "\n",
      "• windows revenue increased $ 2. 3 billion or 10 % driven by growth in windows oem and windows commercial. windows oem revenue increased 11 % driven by continued strength in the commercial pc market, which has higher revenue per license. windows commercial products and cloud services revenue increased 11 % driven by demand for microsoft 365.\n",
      "\n",
      "and crm applications. office commercial office commercial is designed to increase personal, team, and organizational productivity through a range of products and services. growth depends on our ability to reach new users in new markets such as frontline workers, small and medium businesses, and growth markets, as well as add value to our core product and service offerings to span productivity categories such as communication, collaboration, analytics, security, and compliance. office commercial revenue is mainly affected by a combination of continued installed base growth and average revenue per user expansion, as well as the continued shift from office licensed on - premises to office 365. office consumer office consumer is designed to increase personal productivity through a range of products and services. growth depends on our ability to reach new users, add value to our core product set, and continue to expand our product and service\n",
      "\n",
      "----------------------------------------------------------------------------------------------------\n",
      "Query: What was the role of acquisitions in revenue growth?\n",
      "\n",
      "Results:\n",
      "engineering, gaming, and linkedin. • sales and marketing expenses increased $ 1. 7 billion or 8 % driven by investments in commercial sales and linkedin. sales and marketing included a favorable foreign currency impact of 2 %. • general and administrative expenses increased $ 793 million or 16 % driven by investments in corporate functions. operating income increased $ 13. 5 billion or 19 % driven by growth across each of our segments. current year net income and diluted eps were positively impacted by the net tax benefit related to the transfer of intangible properties, which resulted in an increase to net income and diluted eps of $ 3. 3 billion and $ 0. 44, respectively. prior year net income and diluted eps were positively impacted by the net tax benefit related to the india supreme court decision on withholding taxes, which resulted in an increase to net income and diluted eps of $ 620 million and $ 0. 08, respectively.\n",
      "\n",
      "independent recalculation of prices where appropriate. cash flows cash from operations increased $ 12. 3 billion to $ 89. 0 billion for fiscal year 2022, mainly due to an increase in cash received from customers, offset in part by an increase in cash paid to suppliers and employees. cash used in financing increased $ 10. 4 billion to $ 58. 9 billion for fiscal year 2022, mainly due to a $ 5. 3 billion increase in common stock repurchases and a $ 5. 3 billion increase in repayments of debt. cash used in investing increased $ 2. 7 billion to $ 30. 3 billion for fiscal year 2022, mainly due to a $ 13. 1 billion increase in cash used for acquisitions of companies, net of cash acquired, and purchases of intangible and other assets, and a $ 3. 3 billion increase in additions to property and equipment, offset in part by a $ 15. 6 billion increase in cash from net investment purchases, sales, and maturities.\n",
      "\n",
      "37 general and administrative expenses include payroll, employee benefits, stock - based compensation expense, and other headcount - related expenses associated with finance, legal, facilities, certain human resources and other administrative personnel, certain taxes, and legal and other administrative fees. general and administrative expenses increased $ 793 million or 16 % driven by investments in corporate functions. other income ( expense ), net the components of other income ( expense ), net were as follows : ( in millions ) year ended june 30, 2022 2021 interest and dividends income $ 2, 094 $ 2, 131 interest expense ( 2, 063 ) ( 2, 346 ) net recognized gains on investments 461 1, 232 net gains ( losses ) on derivatives ( 52 ) 17 net gains ( losses ) on foreign currency remeasurements ( 75 ) 54 other, net ( 32 ) 98 total $ 333 $ 1, 186\n",
      "\n",
      "product revenue includes sales from operating systems, cross - device productivity applications, server applications, business solution applications, desktop and server management tools, software development tools, video games, and hardware such as pcs, tablets, gaming and entertainment consoles, other intelligent devices, and related accessories.\n",
      "\n",
      "36 • search and news advertising revenue increased $ 2. 3 billion or 25 %. search and news advertising revenue excluding traffic acquisition costs increased 27 % driven by higher revenue per search and search volume. • gaming revenue increased $ 860 million or 6 % on a strong prior year comparable that benefited from xbox series x | s launches and stay - at - home scenarios, driven by growth in xbox hardware and xbox content and services. xbox hardware revenue increased 16 % due to continued demand for xbox series x | s. xbox content and services revenue increased 3 % driven by growth in xbox game pass subscriptions and first - party content, offset in part by a decline in third - party content. • surface revenue increased $ 226 million or 3 %. operating income increased $ 1. 5 billion or 8 %. • gross margin increased $ 3. 1 billion or 10 % driven by growth in windows and search and news advertising. gross margin percentage was relatively unchanged.\n",
      "\n",
      "----------------------------------------------------------------------------------------------------\n",
      "Query: How did customer retention rates change during the year?\n",
      "\n",
      "Results:\n",
      "35 reportable segments fiscal year 2022 compared with fiscal year 2021 productivity and business processes revenue increased $ 9. 4 billion or 18 %. • office commercial products and cloud services revenue increased $ 4. 4 billion or 13 %. office 365 commercial revenue grew 18 % driven by seat growth of 14 %, with continued momentum in small and medium business and frontline worker offerings, as well as growth in revenue per user. office commercial products revenue declined 22 % driven by continued customer shift to cloud offerings. • office consumer products and cloud services revenue increased $ 641 million or 11 % driven by microsoft 365 consumer subscription revenue. microsoft 365 consumer subscribers grew 15 % to 59. 7 million. • linkedin revenue increased $ 3. 5 billion or 34 % driven by a strong job market in our talent solutions business and advertising demand in our marketing solutions business.\n",
      "\n",
      "( in millions ) gross carrying amount accumulated amortization net carrying amount gross carrying amount accumulated amortization net carrying amount june 30, 2022 2021 technology - based $ 11, 277 $ ( 6, 958 ) $ 4, 319 $ 9, 779 $ ( 7, 007 ) $ 2, 772 customer - related 7, 342 ( 3, 171 ) 4, 171 4, 958 ( 2, 859 ) 2, 099 marketing - related 4, 942 ( 2, 143 ) 2, 799 4, 792 ( 1, 878 ) 2, 914 contract - based 16 ( 7 ) 9 446 ( 431 ) 15 total $ 23, 577 ( a ) $ ( 12, 279 ) $ 11, 298 $ 19, 975 ( b ) $ ( 12, 175 ) $ 7, 800\n",
      "\n",
      "based products and services, the associated revenue will shift from being recognized at the time of the transaction to being recognized over the subscription period or upon consumption, as applicable. material cash requirements and other obligations contractual obligations the following table summarizes the payments due by fiscal year for our outstanding contractual obligations as of june 30, 2022 : ( in millions ) 2023 thereafter total long - term debt : ( a ) principal payments $ 2, 750 $ 52, 761 $ 55, 511 interest payments 1, 468 21, 139 22, 607 construction commitments ( b ) 7, 942 576 8, 518 operating and finance leases, including imputed interest ( c ) 4, 609 44, 045 48, 654 purchase commitments ( d ) 42, 669 2, 985 45, 654 total $ 59, 438 $ 121, 506 $ 180, 944\n",
      "\n",
      "our products are generally sold with a right of return, we may provide other credits or incentives, and in certain instances we estimate customer usage of our products and services, which are accounted for as variable consideration when determining the amount of revenue to recognize. returns and credits are estimated at contract inception and updated at the end of each reporting period if additional information becomes available. changes to our estimated variable consideration were not material for the periods presented. contract balances and other receivables timing of revenue recognition may differ from the timing of invoicing to customers. we record a receivable when revenue is recognized prior to invoicing, or unearned revenue when revenue is recognized subsequent to invoicing. for multi - year agreements, we generally invoice customers annually at the beginning of each annual coverage period. we record a\n",
      "\n",
      "32 services. the metrics are disclosed in the md & a or the notes to financial statements in our fiscal year 2022 form 10 - k. financial metrics are calculated based on financial results prepared in accordance with accounting principles generally accepted in the united states of america ( “ gaap ” ), and growth comparisons relate to the corresponding period of last fiscal year. in the first quarter of fiscal year 2022, we made updates to the presentation and method of calculation for certain metrics, most notably changes to incorporate all current and anticipated revenue streams within our office consumer and server products and cloud services metrics and changes to align with how we manage our windows oem and search and news advertising businesses. none of these changes had a material impact on previously reported amounts in our md & a. in the third quarter of fiscal year 2022, we completed our acquisition of nuance. nuance is included in all commercial\n",
      "\n",
      "----------------------------------------------------------------------------------------------------\n"
     ]
    }
   ],
   "source": [
    "queries = [original_query] + augmented_queries\n",
    "results = chroma_collection.query(query_texts=queries, n_results=5, include=['documents', 'embeddings'])\n",
    "\n",
    "retrieved_documents = results['documents']\n",
    "\n",
    "# Deduplicate the retrieved documents\n",
    "unique_documents = set()\n",
    "for documents in retrieved_documents:\n",
    "    for document in documents:\n",
    "        unique_documents.add(document)\n",
    "\n",
    "for i, documents in enumerate(retrieved_documents):\n",
    "    print(f\"Query: {queries[i]}\")\n",
    "    print('')\n",
    "    print(\"Results:\")\n",
    "    for doc in documents:\n",
    "        print(doc)\n",
    "        print('')\n",
    "    print('-'*100)"
   ]
  },
  {
   "cell_type": "code",
   "execution_count": 26,
   "metadata": {},
   "outputs": [
    {
     "name": "stderr",
     "output_type": "stream",
     "text": [
      "100%|██████████| 1/1 [00:00<00:00,  3.97it/s]\n",
      "100%|██████████| 5/5 [00:01<00:00,  3.54it/s]\n"
     ]
    }
   ],
   "source": [
    "original_query_embedding = embedding_function([original_query])\n",
    "augmented_query_embeddings = embedding_function(augmented_queries)\n",
    "\n",
    "project_original_query = project_embeddings(original_query_embedding, umap_transform)\n",
    "project_augmented_queries = project_embeddings(augmented_query_embeddings, umap_transform)"
   ]
  },
  {
   "cell_type": "code",
   "execution_count": 27,
   "metadata": {},
   "outputs": [
    {
     "name": "stderr",
     "output_type": "stream",
     "text": [
      "100%|██████████| 30/30 [00:07<00:00,  3.79it/s]\n"
     ]
    }
   ],
   "source": [
    "result_embeddings = results['embeddings']\n",
    "result_embeddings = [item for sublist in result_embeddings for item in sublist]\n",
    "projected_result_embeddings = project_embeddings(result_embeddings, umap_transform)"
   ]
  },
  {
   "cell_type": "code",
   "execution_count": 28,
   "metadata": {},
   "outputs": [
    {
     "data": {
      "text/plain": [
       "(-3.060415196418762, 7.524823594093323, 1.0972334742546082, 8.713089048862457)"
      ]
     },
     "execution_count": 28,
     "metadata": {},
     "output_type": "execute_result"
    },
    {
     "data": {
      "image/png": "[encoded data removed]",
      "text/plain": [
       "<Figure size 640x480 with 1 Axes>"
      ]
     },
     "metadata": {},
     "output_type": "display_data"
    }
   ],
   "source": [
    "import matplotlib.pyplot as plt\n",
    "\n",
    "plt.figure()\n",
    "\n",
    "plt.scatter(projected_dataset_embeddings[  :, 0], projected_dataset_embeddings[  :, 1], s=3, color='gray')\n",
    "plt.scatter(projected_result_embeddings[:, 0],    projected_result_embeddings[:, 1], s=100, facecolors='g', edgecolors='g')\n",
    "plt.scatter(project_augmented_queries[:, 0],      project_augmented_queries[:, 1],       s=150, marker='X', color='orange')\n",
    "plt.scatter(project_original_query[     :, 0],    project_original_query[     :, 1], s=150, marker='X', color='r')\n",
    "\n",
    "\n",
    "\n",
    "plt.gca().set_aspect('equal', 'datalim')\n",
    "plt.title(f'{original_query}')\n",
    "plt.axis('off')"
   ]
  }
 ],
 "metadata": {
  "kernelspec": {
   "display_name": "env",
   "language": "python",
   "name": "python3"
  },
  "language_info": {
   "codemirror_mode": {
    "name": "ipython",
    "version": 3
   },
   "file_extension": ".py",
   "mimetype": "text/x-python",
   "name": "python",
   "nbconvert_exporter": "python",
   "pygments_lexer": "ipython3",
   "version": "3.11.4"
  }
 },
 "nbformat": 4,
 "nbformat_minor": 2
}
