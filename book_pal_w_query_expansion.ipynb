{
 "cells": [
  {
   "cell_type": "markdown",
   "metadata": {},
   "source": [
    "# Lab 3 - Query Expansion"
   ]
  },
  {
   "cell_type": "code",
   "execution_count": 1,
   "metadata": {},
   "outputs": [],
   "source": [
    "file_path = 'parsed_text.txt'\n",
    "\n",
    "with open(file_path, 'r') as file:\n",
    "    lines = file.readlines()\n",
    "\n",
    "filtered_text = ' '.join(lines)\n",
    "\n",
    "pdf_texts= [filtered_text]"
   ]
  },
  {
   "cell_type": "code",
   "execution_count": 3,
   "metadata": {},
   "outputs": [],
   "source": [
    "# This cell is the same as Lab 1 till we create the collection collapsed into a single block\n",
    "\n",
    "import chromadb\n",
    "from chromadb.utils.embedding_functions import SentenceTransformerEmbeddingFunction\n",
    "\n",
    "from langchain.text_splitter import RecursiveCharacterTextSplitter, SentenceTransformersTokenTextSplitter\n",
    "\n",
    "character_splitter = RecursiveCharacterTextSplitter(\n",
    "    separators=[\"\\n\\n\", \"\\n\", \". \", \" \", \"\"],\n",
    "    chunk_size=1000,\n",
    "    chunk_overlap=0\n",
    ")\n",
    "character_split_texts = character_splitter.split_text('\\n\\n'.join(pdf_texts))\n",
    "\n",
    "token_splitter = SentenceTransformersTokenTextSplitter(chunk_overlap=0, tokens_per_chunk=256)\n",
    "\n",
    "token_split_texts = []\n",
    "for text in character_split_texts:\n",
    "    token_split_texts += token_splitter.split_text(text)\n",
    "   \n"
   ]
  },
  {
   "cell_type": "code",
   "execution_count": 4,
   "metadata": {},
   "outputs": [
    {
     "data": {
      "text/plain": [
       "4294"
      ]
     },
     "execution_count": 4,
     "metadata": {},
     "output_type": "execute_result"
    }
   ],
   "source": [
    "\n",
    "embedding_function = SentenceTransformerEmbeddingFunction()\n",
    "\n",
    "chroma_client = chromadb.Client()\n",
    "\n",
    "chroma_collection = chroma_client.create_collection(\"historia.txt\", embedding_function=embedding_function)\n",
    "\n",
    "ids = [str(i) for i in range(len(token_split_texts))]\n",
    "\n",
    "chroma_collection.add(ids=ids, documents=token_split_texts)\n",
    "\n",
    "chroma_collection.count()"
   ]
  },
  {
   "cell_type": "code",
   "execution_count": 5,
   "metadata": {},
   "outputs": [
    {
     "name": "stderr",
     "output_type": "stream",
     "text": [
      "/Users/damiangarayalde/Desktop/Work - Github Repos/AI/Advanced Retrieval for AI with Chroma/env/lib/python3.11/site-packages/umap/umap_.py:1943: UserWarning: n_jobs value -1 overridden to 1 by setting random_state. Use no seed for parallelism.\n",
      "  warn(f\"n_jobs value {self.n_jobs} overridden to 1 by setting random_state. Use no seed for parallelism.\")\n",
      "OMP: Info #276: omp_set_nested routine deprecated, please use omp_set_max_active_levels instead.\n"
     ]
    }
   ],
   "source": [
    "# This cell is the same as Lab 2 till we define the project_embeddings method\n",
    "\n",
    "import umap\n",
    "import numpy as np\n",
    "from tqdm import tqdm\n",
    "\n",
    "embeddings = chroma_collection.get(include=['embeddings'])['embeddings']\n",
    "umap_transform = umap.UMAP(random_state=0, transform_seed=0).fit(embeddings)\n",
    "\n",
    "def project_embeddings(embeddings, umap_transform):\n",
    "    umap_embeddings = np.empty((len(embeddings),2))\n",
    "    for i, embedding in enumerate(tqdm(embeddings)): \n",
    "        umap_embeddings[i] = umap_transform.transform([embedding])\n",
    "    return umap_embeddings   "
   ]
  },
  {
   "cell_type": "code",
   "execution_count": 6,
   "metadata": {},
   "outputs": [
    {
     "name": "stderr",
     "output_type": "stream",
     "text": [
      "100%|██████████| 4294/4294 [19:44<00:00,  3.63it/s]\n"
     ]
    }
   ],
   "source": [
    "projected_dataset_embeddings = project_embeddings(embeddings, umap_transform)"
   ]
  },
  {
   "cell_type": "code",
   "execution_count": 44,
   "metadata": {},
   "outputs": [],
   "source": [
    "import os\n",
    "import openai\n",
    "from openai import OpenAI\n",
    "\n",
    "from dotenv import load_dotenv, find_dotenv\n",
    "_ = load_dotenv(find_dotenv()) # read local .env file\n",
    "openai.api_key = os.environ['OPENAI_API_KEY']\n",
    "\n",
    "openai_client = OpenAI()"
   ]
  },
  {
   "cell_type": "code",
   "execution_count": 58,
   "metadata": {},
   "outputs": [],
   "source": [
    "def augment_query_with_generated_answer(query, model=\"gpt-3.5-turbo\"):\n",
    "    messages = [\n",
    "        {\n",
    "            \"role\": \"system\",\n",
    "            \"content\": \"Quiero que actues como un profesor de historia.\" \n",
    "                        \"Dada la pregunta provista, proveeme una respuesta esperable a encontrar en un libro de historia.\" \n",
    "                        \"Limita la respuesta a una horacion de menos de 100 palabras.\"\n",
    "        },\n",
    "        {\"role\": \"user\", \"content\": query}\n",
    "    ] \n",
    "\n",
    "    response = openai_client.chat.completions.create(\n",
    "        model=model,\n",
    "        messages=messages,\n",
    "    )\n",
    "\n",
    "    hypothetical_answer = response.choices[0].message.content\n",
    "\n",
    "    augmented_query = f\"{query}: {hypothetical_answer}\"\n",
    "\n",
    "    return augmented_query"
   ]
  },
  {
   "cell_type": "code",
   "execution_count": 59,
   "metadata": {},
   "outputs": [],
   "source": [
    "def propose_related_queries(query, model=\"gpt-3.5-turbo\"):\n",
    "    messages = [\n",
    "        {\n",
    "            \"role\": \"system\",\n",
    "            \"content\": \"Quiero que actues como un profesor de historia. Te haran preguntas sobre la informacion provista por un texto. \"\n",
    "            \"Sugiera cinco (5) preguntas adicionales relacionadas con la pregunta original para ayudar en la busqueda de informacion en el texto para poder responder la pregunta provista. \"\n",
    "            \"Sugiera unicamente preguntas cortas sin oraciones compuestas. Sugiera una variedad de preguntas que cubran los diferentes aspectos del asunto.\"\n",
    "            \"Asegurese de que las preguntas esten completas y tengan relacion con la pregunta provista.\"\n",
    "            \"Genere una pregunta por linea y no enumere las preguntas.\"\n",
    "        },\n",
    "        {\"role\": \"user\", \"content\": query}\n",
    "    ]\n",
    "\n",
    "    response = openai_client.chat.completions.create(\n",
    "        model=model,\n",
    "        messages=messages,\n",
    "    )\n",
    "    content = response.choices[0].message.content\n",
    "    content = content.split(\"\\n\")\n",
    "    return content"
   ]
  },
  {
   "cell_type": "code",
   "execution_count": 61,
   "metadata": {},
   "outputs": [],
   "source": [
    "def get_augmented_queries(question):\n",
    "\n",
    "    related_queries = propose_related_queries(question)\n",
    "\n",
    "    augmented_query = augment_query_with_generated_answer(question)\n",
    "\n",
    "    queries =  [augmented_query]\n",
    "\n",
    "    for q in related_queries:\n",
    "        augmented_query = augment_query_with_generated_answer(q)\n",
    "        queries = queries + [augmented_query]\n",
    "        \n",
    "    return queries"
   ]
  },
  {
   "cell_type": "code",
   "execution_count": 62,
   "metadata": {},
   "outputs": [
    {
     "name": "stdout",
     "output_type": "stream",
     "text": [
      "Cuales fueron los personales mas influyentes llamados Carlos?: Carlos I de España (también conocido como Carlos V del Sacro Imperio Romano Germánico) y Carlos II de España fueron dos de los personajes más influyentes de la historia europea.\n",
      "----------------------------------------------------------------------------------------------------\n",
      "¿Qué papel desempeñó Carlos I de España en la historia europea?   : Carlos I de España, también conocido como Carlos V de Alemania, fue una figura clave en la historia europea del siglo XVI al ser emperador del Sacro Imperio Romano Germánico y rey de España. Su reinado estuvo marcado por conflictos religiosos, guerras y expansión territorial, contribuyendo a la consolidación de los imperios español y alemán en Europa.\n",
      "----------------------------------------------------------------------------------------------------\n",
      "¿Cuál era el título completo de Carlos I de España?  : El título completo de Carlos I de España era Carlos I de España y V de Alemania.\n",
      "----------------------------------------------------------------------------------------------------\n",
      "¿En qué territorios gobernó Carlos I de España?  : Carlos I de España gobernó en territorios como España, parte de Italia, los Países Bajos, Alemania y América.\n",
      "----------------------------------------------------------------------------------------------------\n",
      "¿Cuál fue la relación entre Carlos V de Alemania y Carlos I de España?  : Carlos I de España y Carlos V de Alemania eran la misma persona, ya que Carlos I era conocido como Carlos V cuando fue coronado emperador del Sacro Imperio Romano Germánico en 1519.\n",
      "----------------------------------------------------------------------------------------------------\n",
      "¿Qué impacto tuvo la abdicación de Carlos V de Alemania?: La abdicación de Carlos V de Alemania en 1556 tuvo un impacto significativo al dividir sus vastos dominios entre su hijo Felipe II de España y su hermano Fernando I de Austria, marcando el comienzo de la disminución de la influencia de la Casa de Habsburgo en Europa.\n",
      "----------------------------------------------------------------------------------------------------\n"
     ]
    }
   ],
   "source": [
    "queriess = get_augmented_queries(\"Cuales fueron los personales mas influyentes llamados Carlos?\")\n",
    "\n",
    "for q in queriess:\n",
    "    print(q)\n",
    "    print('-'*100)"
   ]
  },
  {
   "cell_type": "code",
   "execution_count": 63,
   "metadata": {},
   "outputs": [
    {
     "name": "stdout",
     "output_type": "stream",
     "text": [
      "Query: Cuales fueron los personales mas influyentes llamados Carlos?: Carlos I de España (también conocido como Carlos V del Sacro Imperio Romano Germánico) y Carlos II de España fueron dos de los personajes más influyentes de la historia europea.\n",
      "\n",
      "Results:\n",
      "los gobiernos de frondizi y guido. si bien la figura del general juan carlos ongania, como jefe del ejercito,\n",
      "\n",
      ", debia servirseles “ con buena vo luntad, con temor, respeto y sinceridad de corazon, como a jesucristo ”. aunque la tesis no se expuso en espana con prolijidad doctrinal,\n",
      "\n",
      "165. durante el siglo xviii, y en especial en su segunda mitad, se advirtio en espana un afan renovador que produjo importantes cambios en la vida institucional de la monarquia, procurando borrar los rastros de una profunda decadencia. las nuevas ideas, provenientes de francia, llegaron eu compania de la casa de borbon, que sucedio a la de austria. conviene recordar que carlos il “ el hechizado ”, ultimo monarca habsburgo, murio en 1700 sin descendencia, habiendo dejado testamento, por el que llamaba al trono espanol al duque de anjou, nieto de luis xiv, poderoso rey de francia, quien llego a espana en\n",
      "\n",
      "##igo de baviera, el de luisiana, el de espana y la legislacion romana.\n",
      "\n",
      "##a pragmatica en america y espana : el encuentro de dos mundos. coord. emesto a. j. maeder y sonia stengel, buenos aires, 1988, con orientacion bibliografica. 52\n",
      "\n",
      "en cambio, si lo tuvo la segunda, donde se inspiraron los teologos y juristas que, atribuyendo al papa la autoridad necesaria para intervenir en los asuntos temporales, estimaban que la donacion pontificia constituia el mejor titulo que poseia espana para acreditar su dominio sobre. el nuevo mundo.\n",
      "\n",
      "fue “ a semejanza de las de espana (... ) provisoria y a nombre del cautivo rey fernando ”, y constituia un paso “ marcado con sellos indelebles de fidelidad y amor ”. a continuacion agregaba : “ el nombre de fernando de borbon precedia en todos los decretos de gobierno y encabezaba sus despachos. el pabellon espanol tremolaba en nuestros buques y servia para inflamar nuestros soldados. las provincias, viendose en una especie de orfandad por la dispersion del gobierno nacional, por la falta de otro legitimo y capaz de responsabilidad, y por la conquista de casi toda la metropoli, se habian levantado un argos, que velase sobre su seguridad y las conservase intactas para presentarse al cautivo rey, si recuperaba su libertad. ” se lamentaba luego de las violentas rep\n",
      "\n",
      "los negocios de justicia ; abrir caminos y reparar puentes con la contribucion de los que resultasen beneficiados ; ordenar el destierro y la remision a espana de las personas, luego de proceso judicial, con envio de la causa al rey.\n",
      "\n",
      "soledad, procedio por la fuerza a desalojar a las autoridades arzentinas y tomo posesion en nombre del rey britanico.\n",
      "\n",
      "a la nacion catolica. iglesia y ejercito en los origenes del peronismo. 1930 - 1943, buenos aires, 1996 ; juan carlos zurettl, nueva historia eclesiastica..., op. cit. en nota 1 del capitulo ix.\n",
      "\n",
      "----------------------------------------------------------------------------------------------------\n",
      "Query: ¿Qué papel desempeñó Carlos I de España en la historia europea?   : Carlos I de España, también conocido como Carlos V de Alemania, fue una figura clave en la historia europea del siglo XVI al ser emperador del Sacro Imperio Romano Germánico y rey de España. Su reinado estuvo marcado por conflictos religiosos, guerras y expansión territorial, contribuyendo a la consolidación de los imperios español y alemán en Europa.\n",
      "\n",
      "Results:\n",
      "que se afianzo en los descendientes de los reyes catolicos, al punto de que el nieto de estos, carlos 1 de espana y v de alemania, recibio no solo los reinos peninsulares unidos politicamente, sino que, por via paterna, heredo el imperio de alemania, con muchos territorios en el centro y el oeste de europa, derechos de soberania en italia y un extenso continente en ultramar. sin embargo, ello no implico en manera alguna la unidad juridica, ya que este aspecto continuo diversificado por un tiempo mas. nuestro enfoque, pues, debe - centrarse en castilla, estudiando sumariamente sus rasgos caracteristicos, los que directa o indirectamente se reflejarian en el proceso de la conquista y la colonizacion de america. : 20. organizacion politica. en castilla, se establecio la monarquia hereditaria sobre la base del hijo primo\n",
      "\n",
      "168. el cambio postulado por el despotismo ilustrado se tradujo tambien en un acentuado centralismo. los organismos que representaban alguna autoridad al margen del rey fueron suprimidos o relegados de la vida politica del reino. las cortes ( $ 21 ) dejaron de ser convocadas. tan solo se reunieron seis veces a todo lo largo del siglo. los consejos regionales ( aragon, flandes e italia ) desaparecieron en 1715, para pasar a incrementar las atribuciones del de castilla, que se convirtio en el organo esencial de la vida politica de espana.\n",
      "\n",
      "( la ) bernardino bravo lira, entre dos constituciones, historica y escrita. scheinkonstitutionalismus en espana, portugal e hispanoamerica cn q. f, n? 27, 1998 ; alejandro guzman brito, el vocabulario historico para la idea de constitucion politica en r. e. h.., xxix, 2002 ; dardo perez guu - nou, pensamiento politico y proyectos constitucionales ( 1810 - 1880 ) en n. e - n. a., t. y, cap. 17 ; maria cristina seghesso de lopez aragon, primer constitucionalismo uruguayo y marco rioplatense ( 1826 - 1830 ) en r. h. d., n * 28, 2000. : tos y modernos, no se dejo de invocar en espana, por ejemplo, a los antiguos fueros y limitaciones al poder del rey.\n",
      "\n",
      "( 2 ) venancio d. carro, o. p, la teologia y los teologos juristas espanoles ante la conquista de america, madrid, 1944, 2 t. ; lewrs hanke, la lucha espanola por la justicia en la conquista de america, madrid, 1959 ; josep hofener, la etica colonial espanola del siglo de oro, madrid, 1957 ; richard konerzxe, america latina, la epoca colonial, vol. 22, historia universal ed. siglo xxi, madrid, 1972 ; dreco luis molinari, descubrimiento y conquista de america, buenos aires, 1964 ; stvio aa. zavala, las instituciones juridicas en la conquista de america, madrid, 1935. ( 2a ) demernio ramos, el problema de las delimitaciones oceanicas : tordesillas y su fin en j. g. l., 33, 1996 ; vicror tau anzoategu1, los derechos de espana a la conquista de america. conciencia autocritica y defens\n",
      "\n",
      "niendo por norte este objetivo mercantil, inglaterra deseaba aseirarse esa libertad, tanto en el caso de que los estados americanos siguieran sus propositos como si espana recuperara esos territo a gg a rios. con todo, sus simpatias parecian inclinarse hacia los primeros. mientras pudo desarrollar el comercio en america del sur sin comprometerse con espana y sin que las exigencias de reconocimiento por parte de los americanos impidieran aquel objetivo, gran bretana, siiendo la senda de una reconocida linea diplomatica, no definio su posicion. recibia a emisarios americanos sin concederles rango oficial,\n",
      "\n",
      "las luchas por la independencia americana contribuyeron a la formacion de una literatura de guerra, la que, naturalmente, ataco con decision la accion de espana en america y condeno de manera categorica la administracion indiana. a la luz de las doctrinas del siglo xviii y de los principios liberales, la colonizacion espanola resultaba francamente repudiable para los patriotas de aquellos tiempos. esa literatura fue expurgada por las generaciones siguientes, pero quedo incorporada en nuestra historiografia liberal la idea de que los territorios americanos habian sido una dependencia colonial de espana. en el siglo xx se volvio hacia el tema con verdadero interes historico, y los nuevos estudios arrojaron diversos resultados, controvertidos muchos de ellos, al punto de que el tema en cuestion es aun de los que apasionan sin hesitacion a nuestros historiadores ; provoca\n",
      "\n",
      "370. jorce maria ramallo, al profundizar el estudio de los grupos politicos revolucionarios, distingue tres corrientes, que se fueron delineando a partir de las invasiones britanicas y dieron cuenta, en distintas ocasiones, de sus objetivos. un primer grupo, conducido por don martin de alzaga, alcalde de primer voto del cabildo de buenos aires en 1808, estaba integrado principalmente por espanoles europeos — como juan larrea y domingo marheu -, pero contaba con adherentes criollos - como mariano moreno y julian de lerva —. su objetivo era la defensa del virreinato contra la dominacion extranjera y su plan de independencia estaba condicionado a la perdida de espana o al predominio de los espanoles europeos. su actitud revolucionaria se hizo presente el 19 de enero de 1809. el segundo grupo, liderado por\n",
      "\n",
      "estimulo el desarrollo del comercio ultramarino, fundamentalmente en la america espanola. los planes britanicos con respecto a este continente se fundaban en una informacion nutrida y prolija, aunque no siempre realista, y variaban entre la conquista territorial y la emancipa cion, admitiendo incluso las mas diversas combinaciones. la predica revolucionaria inglesa — oficialmente reprobada por cuanto los cambios diplomaticos de esos anos ubicaron a veces a inglaterra en alianza con la corona de espana — se incremento despues del fracaso de las tentativas de apoderarse de las provincias rioplatenses ( 1806 - 1807 ) y ante la evidencia de que se hacia impracticable un nuevo intento, en razon de la ferrea resistencia del espanol americano de admitir la dominacion extranjera\n",
      "\n",
      "1701 como felmre vi. la monarquia se vio a poco envuelta : en una dolorosa guerra, ya que carlos, archiduque de austria, se sentia con derechos a la corona espanola y era apoyado por varios reinos peninsulares y europeos. la guerra termino en 1713 con el tratado de urrechr, y felie fue reconocido como soberano de espana, pero debio resignar sus derechos sobre la corona francesa. ademas, espana perdio gibraltar, italia y los paises bajos. * felme v ( 1701 - 1746 ) no demostro condiciones sobresalientes. some ( 1 ) juan beneyro, historia de la administracion espanola e hispanoamericana, madrid, 1958 ; carlos corona, revolucion y reaccion en el reinado de carlos iv, madrid, 1957 ; luis navarro garcia, la casa de contratacion en cadiz. cadiz, 1975 ; luis sancuez acesta, el pensamiento politico del despotismo ilustrado, madrid,\n",
      "\n",
      "carlos iv, entre 1804 y 1807, sin alcanzar a concretarse. era tambien la prediccion del americano victorian de villava fiscal de la audiencia de charcas -, quien en 1797 escribio los apuntamientos para la reforma del reino, donde se propugnaban medidas tendientes a restaurar el concepto de que el rey desempenaba un oficio y no un mero empleo de honor. debia tambien moderarse el regimen monarquico con organos representativos en los cuales interviniesen los americanos. proponia tambien reformas politicas en america, y a traves de ellas aparecia la intencion de valorar a los criollos, colocandolos en una verdadera y real igualdad con los peninsulares. 347. las ideas del siglo xviii habian prendido tambien en america, por influencias recibidas de los mismos pensadores peninsulares o por conocimiento directo de los libros mas notables\n",
      "\n",
      "----------------------------------------------------------------------------------------------------\n",
      "Query: ¿Cuál era el título completo de Carlos I de España?  : El título completo de Carlos I de España era Carlos I de España y V de Alemania.\n",
      "\n",
      "Results:\n",
      "##es han puesto enfasis en que la invocacion de fernando vii aparecio como una imposicion de los britanicos, aliados entonces de espana, para poder comerciar libremente 31\n",
      "\n",
      ". en los anos sucesivos continuo la predica de arce a favor de espana en el seno de la onu y se pudo ir modificando ese clima adverso hasta que en 1950 la asamblea general revoco aquella recomendacion de cuatro anos atras. solo a fines de 1955 se admitio a espana en el organismo mundial.\n",
      "\n",
      "estancos, y los impuestos.\n",
      "\n",
      "##igo de baviera, el de luisiana, el de espana y la legislacion romana.\n",
      "\n",
      "asi como los ganados de toda especie, que pasen por el territorio de una provincia a otra ”, como tambien “ los carruajes,\n",
      "\n",
      "epica cruzada de los treinta y tres orientales al mando de juan antonio lavalleja —, y el 25 de agosto de\n",
      "\n",
      "fue dominante en el concepto de las generaciones ilustradas. por eso se condenaron las doctrinas de vrroria, suarez, mariana y todos aquellos que trataron de senalar limitaciones a la autoridad regia. como ejemplo de cuanto decimos, veanse estas preguntas y respuestas contestadas en un catecismo de caracter politico, redactado por el obispo de cordoba de tucuman, fray jose antonio de san alberto, impreso en 1783 para la ensenanza de los ninos : - “ ¿ quien, pues, es el origen de los reyes? - dios mismo, de quien se deriva toda potestad. - ¿ por que los reyes se llamaron dioses? - porque en su reino son unas imagenes visibles de dios. - ¿ quien es superior al rey? - solo dios en lo civil y temporal de su reino. - el rey, ¿ esta sujeto al pueblo? - no, que esto seria estar sujeta la\n",
      "\n",
      "discurso polirico de la monarquia espanola durante el siglo xvit en inem, mexico zwischen, op. cit. en nota 3, cap. il ; demetrio ramos, espana en la independencia de america, madrid, 1996.\n",
      "\n",
      ". asi recuerda garcia - gallo que los pilares de esa monarquia eran, de un lado, los reinos peninsulares ( las espanas ), y de otro, los reinos de indias.\n",
      "\n",
      "##rizar el pase a las indias de obras de esos mismos temas, impresas en espana o en el extranjero.\n",
      "\n",
      "----------------------------------------------------------------------------------------------------\n",
      "Query: ¿En qué territorios gobernó Carlos I de España?  : Carlos I de España gobernó en territorios como España, parte de Italia, los Países Bajos, Alemania y América.\n",
      "\n",
      "Results:\n",
      "##igo de baviera, el de luisiana, el de espana y la legislacion romana.\n",
      "\n",
      "##a pragmatica en america y espana : el encuentro de dos mundos. coord. emesto a. j. maeder y sonia stengel, buenos aires, 1988, con orientacion bibliografica. 52\n",
      "\n",
      "##rgo reinado de fernando vii, la casi totalidad de los territorios americanos alcanzo su independencia.\n",
      "\n",
      "operaron sin mayores inconvenientes los portugueses y sus aliados los ingleses, inundando de mercaderias extranjeras los puertos espanoles de america.\n",
      "\n",
      "##es han puesto enfasis en que la invocacion de fernando vii aparecio como una imposicion de los britanicos, aliados entonces de espana, para poder comerciar libremente 31\n",
      "\n",
      "en los dominios britanicos.\n",
      "\n",
      "##a de las doctrinas utilizadas en espana desde 1808, las que se difundian a traves del agitado quehacer politico y llegaban a america como noticias, proclamas, manifiestos, etcetera.\n",
      "\n",
      ". asi recuerda garcia - gallo que los pilares de esa monarquia eran, de un lado, los reinos peninsulares ( las espanas ), y de otro, los reinos de indias.\n",
      "\n",
      "suelo de las naciones americanas por una potencia europea ”. el gobierno de los estados unidos, al recibir la pertinente comunicacion, no modifico su posicion.\n",
      "\n",
      "las tres naciones europeas promovieron actos de fuerza, bloquearon la guayra y puerto cabello, efectuaron bombardeos y apresaron algunas naves venezolanas. alemania habia comunicado al gobierno de los estados unidos que los procedimientos en ningun caso tendrian por objeto “ la adquisicion y la ocupacion permanente del territorio venezolano ”. el presidente estadounidense'theodore roosevelt acepto el temperamento al manifestar que “ no garantizamos a ningun estado contra la represion que su mala conducta pudiera excitar, con tal de que dicha represion no asuma la adquisicion de territorio por una potencia no americana ”.\n",
      "\n",
      "----------------------------------------------------------------------------------------------------\n",
      "Query: ¿Cuál fue la relación entre Carlos V de Alemania y Carlos I de España?  : Carlos I de España y Carlos V de Alemania eran la misma persona, ya que Carlos I era conocido como Carlos V cuando fue coronado emperador del Sacro Imperio Romano Germánico en 1519.\n",
      "\n",
      "Results:\n",
      "tido a la influencia de sus favoritos, solo en los ultimos anos de su reinado, por obra de los ministros jose patino el marques de la ensenada, comenzaron a dictarse medidas tendientes a reorganizar la monarquia. fernando vi ( 1746 - 1759 ), hijo del anterior, melancolico y retraido, abandono los asuntos de estado en manos del marques de la ensenada y de jose de carvajal, quienes continuaron la obra iniciada durante el reinado de felie. carlos hi ( 1759 - 1788 ), hermano de fernando vi, rey de las dos sicilias, llego al trono ante la ausencia de descendencia directa y fue el monarca mas brillante de la nueva dinastia. genuino representante del despotismo ilustrado ( $ 166 ), se rodeo de ministros de la talla de aranda, floridablanca, campomanes y jovellanos, miembros conspicuos de la ilust\n",
      "\n",
      "a la nacion catolica. iglesia y ejercito en los origenes del peronismo. 1930 - 1943, buenos aires, 1996 ; juan carlos zurettl, nueva historia eclesiastica..., op. cit. en nota 1 del capitulo ix.\n",
      "\n",
      "fue dominante en el concepto de las generaciones ilustradas. por eso se condenaron las doctrinas de vrroria, suarez, mariana y todos aquellos que trataron de senalar limitaciones a la autoridad regia. como ejemplo de cuanto decimos, veanse estas preguntas y respuestas contestadas en un catecismo de caracter politico, redactado por el obispo de cordoba de tucuman, fray jose antonio de san alberto, impreso en 1783 para la ensenanza de los ninos : - “ ¿ quien, pues, es el origen de los reyes? - dios mismo, de quien se deriva toda potestad. - ¿ por que los reyes se llamaron dioses? - porque en su reino son unas imagenes visibles de dios. - ¿ quien es superior al rey? - solo dios en lo civil y temporal de su reino. - el rey, ¿ esta sujeto al pueblo? - no, que esto seria estar sujeta la\n",
      "\n",
      "que se afianzo en los descendientes de los reyes catolicos, al punto de que el nieto de estos, carlos 1 de espana y v de alemania, recibio no solo los reinos peninsulares unidos politicamente, sino que, por via paterna, heredo el imperio de alemania, con muchos territorios en el centro y el oeste de europa, derechos de soberania en italia y un extenso continente en ultramar. sin embargo, ello no implico en manera alguna la unidad juridica, ya que este aspecto continuo diversificado por un tiempo mas. nuestro enfoque, pues, debe - centrarse en castilla, estudiando sumariamente sus rasgos caracteristicos, los que directa o indirectamente se reflejarian en el proceso de la conquista y la colonizacion de america. : 20. organizacion politica. en castilla, se establecio la monarquia hereditaria sobre la base del hijo primo\n",
      "\n",
      "la condicion juridica del indio, antropolagia de espana y america, madrid, 1977 ; warrer hanisca espindola, s. j., esclavitud y libertad de los indios de chile, 1608 - 1696, h. ch. n “ 16, 1981 ; lewis hanee, la lucha espanola...,\n",
      "\n",
      "corona castellana solo quedo asentada cuando carlos i, en 1518,\n",
      "\n",
      "1701 como felmre vi. la monarquia se vio a poco envuelta : en una dolorosa guerra, ya que carlos, archiduque de austria, se sentia con derechos a la corona espanola y era apoyado por varios reinos peninsulares y europeos. la guerra termino en 1713 con el tratado de urrechr, y felie fue reconocido como soberano de espana, pero debio resignar sus derechos sobre la corona francesa. ademas, espana perdio gibraltar, italia y los paises bajos. * felme v ( 1701 - 1746 ) no demostro condiciones sobresalientes. some ( 1 ) juan beneyro, historia de la administracion espanola e hispanoamericana, madrid, 1958 ; carlos corona, revolucion y reaccion en el reinado de carlos iv, madrid, 1957 ; luis navarro garcia, la casa de contratacion en cadiz. cadiz, 1975 ; luis sancuez acesta, el pensamiento politico del despotismo ilustrado, madrid,\n",
      "\n",
      "##igo de baviera, el de luisiana, el de espana y la legislacion romana.\n",
      "\n",
      "pero, en cambio, la mayoria de los espanoles, por conviccion o por circunstancias, prefirio revitalizar las viejas concepciones del poder politico, adormecidas durante el siglo xviii, sosteniendo que el rey no podia disponer de la corona a su antojo sin consentimiento de la nacion, y mucho merios cederla a un extranjero ( $ 61 ). por ello, consideraban que la renuncia de fernando vii era nula, por existir vicios en el consentimiento, debido a haber sido arrancada con violencia y coaccion en el extranjero, y por carecer de capacidad para disponer asi de su autoridad. fernando, pues — para estos —, continuaba siendo el rey legitimo de espana y america ; napoleon era considerado como un tirano y su hermano jose, como rey intruso. algunos otros principios, que demerkio ramos perez\n",
      "\n",
      "“ con una vision mas imperial en sus alcances o probablemente obligado para con sus banqueros extranjeros en italia y alemania — dice haring, abrio en 1526 el comercio y los puertos americanos a todos sus subditos dentro de los dominios de los hassburgos ”. los banqueros alemanes wesler, al amparo de esta franquicia, establecieron una factoria en santo domingo y explotaron minas de plata en nueva espana, llegando en 1528 a colonizar y explotar venezuela. junto con la casa fugger costearon en gran parte los viajes de garcia de loaysa y sebastian casoro a las molucas, y ayudaron economicamente a la expedicion de pebro de mendoza al rio de la plata. pero ya al termino del reinado de carlos v, y mas especialmente desde que su hijo felipe li llego al trono, el comercio con indias quedo reservado a los espanoles\n",
      "\n",
      "----------------------------------------------------------------------------------------------------\n",
      "Query: ¿Qué impacto tuvo la abdicación de Carlos V de Alemania?: La abdicación de Carlos V de Alemania en 1556 tuvo un impacto significativo al dividir sus vastos dominios entre su hijo Felipe II de España y su hermano Fernando I de Austria, marcando el comienzo de la disminución de la influencia de la Casa de Habsburgo en Europa.\n",
      "\n",
      "Results:\n",
      "tenia un alto contenido juridico, y social. debido a las enormes distancias y al desconocimiento territorial, tuvo un campo propicio de aplicacion en el nuevo mundo, aunque muchas veces fueron tambien intereses egoistas los que se valieron de este recurso para dilatar la aplicacion de algunas disposiciones reales que les eran desfavorables. 60. a partir de la muerte de fernando, ocurrida en 1516, y hasta fines de la centuria siguiente, la corona estuvo en poder de principes de la llamada casa de austria. el primero de ellos, carlos 1 de espana y v de alemania ( 1516 - 1556 ), era nieto de fernando y tambien de maximiliano l, y pertenecia a la dinastia austriaca de los habsburgo. durante su reinado el imperio alcanzo gran extension geografica, y consiguio dotarlo de una administracion eficiente, que\n",
      "\n",
      "tido a la influencia de sus favoritos, solo en los ultimos anos de su reinado, por obra de los ministros jose patino el marques de la ensenada, comenzaron a dictarse medidas tendientes a reorganizar la monarquia. fernando vi ( 1746 - 1759 ), hijo del anterior, melancolico y retraido, abandono los asuntos de estado en manos del marques de la ensenada y de jose de carvajal, quienes continuaron la obra iniciada durante el reinado de felie. carlos hi ( 1759 - 1788 ), hermano de fernando vi, rey de las dos sicilias, llego al trono ante la ausencia de descendencia directa y fue el monarca mas brillante de la nueva dinastia. genuino representante del despotismo ilustrado ( $ 166 ), se rodeo de ministros de la talla de aranda, floridablanca, campomanes y jovellanos, miembros conspicuos de la ilust\n",
      "\n",
      "el problema mas apremiante parecia ser el lusitano. portugal reforzo - sus guarniciones en brasil e invadio territorio espanol en varias oportunidades, ocupando la costa septentrional del rio grande, ante la “ impotencia del gobernador vertiz, que falto de hombres y arma “ mentos nada pudo hacer por impedirlo. los invasores, luego de varias vicisitudes, alcanzaron en 1776 a dominar san pedro de rio grande y se ensenorearon de una vasta zona de la banda oriental. espana reacciono de inmediato, aprovechando que la situacion internacional le era favorable y que contaba con la alianza francesa,\n",
      "\n",
      "165. durante el siglo xviii, y en especial en su segunda mitad, se advirtio en espana un afan renovador que produjo importantes cambios en la vida institucional de la monarquia, procurando borrar los rastros de una profunda decadencia. las nuevas ideas, provenientes de francia, llegaron eu compania de la casa de borbon, que sucedio a la de austria. conviene recordar que carlos il “ el hechizado ”, ultimo monarca habsburgo, murio en 1700 sin descendencia, habiendo dejado testamento, por el que llamaba al trono espanol al duque de anjou, nieto de luis xiv, poderoso rey de francia, quien llego a espana en\n",
      "\n",
      "363. dos ideas fundamentales contenia este discurso : la caducidad del gobierno legitimo, puesta ultimamente en evidencia con la disolucion de la junta central, que carecia de facultades legales para establecer una regencia, y “ la reversion de los derechos de la soberania al pueblo de buenos aires y su libre ejercicio en la instalacion de un nuevo gobierno ”. la primera idea se fundaba en un hecho que no se discutia en atencion a las informaciones que se habian recibido de espana en los ultimos meses y que habian determinado precisamente la reunion del cabildo. por otra parte, tampoco era materia en discusion la elevacion al trono de jose bonaparte, pues se lo considero autoridad ilegitima en razon de la nulidad de que adolecian las renuncias y cesiones efectuadas por carlos iv y fernando vii a favor de napoleon — y no de la nacion, como correspondia —, abdicacion\n",
      "\n",
      "al estallar un motin en aranjuez, donde residia la corte, el 19 de marzo de 1808, en un escrito carente de formalidad, carlos iv abdico la corona a favor de su hijo fernando, quien fue proclamado rey dias despues. pero como las intenciones de napoleon eran apoderarse de la corona espanola, aprovecho con habilidad y astucia las desinteligencias entre padre e hijo para convertirse en el arbitro de la disputa y conseguir en bayona, en mayo de 1808, que carlos iv declarase nula su abdicacion, que fernando renunciara a sus derechos al trono a favor de su padre, que el primero, a su vez, cediese al propio napoleon sus derechos a la corona espanola y que fernando hiciera tambien renuncia a todos sus derechos como principe de asturzas. allanado el camino de esta manera, napoleon, en poder del trono,\n",
      "\n",
      "y 1814 ( junta central, consejo de regencia y cortes ). no solo se trataba de conservar la integridad territorial de la monarquia, de la que las provincias ultramarinas constituian una significativa porcion, sino de contar con el apoyo efectivo de america en las criticas circunstancias en que la peninsula se debatia ante la invasion francesa. de ahi que la prensa y la opinion publica dedicaran constante atencion al tema, sobre todo cuando empezaron a advertir los brotes revolucionarios, especialmente a partir de los de caracas y buenos aires. todo ello se reflejo finalmente a traves de los largos debates de las cortes de cadiz durante los tres anos de funcionamiento. este importante tema ha sido estudiado por dardo perez guilhou, y a sus conclusiones nos atenemos, principalmente en los parrafos siguientes.\n",
      "\n",
      "en realidad, la vuelta de fernando vii al trono ( s 360 ) significo la ruptura definitiva de los vinculos - si antes no se habia producido — con las provincias indianas. la accion militar represiva se intensifico, aunque todo ello estuvo condicionado por dos factores principales : la posicion de fernando en la propia peninsula y la debilidad de espana para imponer soluciones a las demas naciones europeas, y para dominar sus territorios de ultramar. hubo tambien negociaciones entre espanoles y americanos en medio de la guerra emancipadora, pero las pretensiones de unos y otros eran diametralmente opuestas, y el punto de discordia radicaba precisamente en el reconocimiento de la independencia que pretendian los criollos y rechazaban los peninsulares.\n",
      "\n",
      "la idea de independencia, aunque estimulada desde antes de 1810 por agentes britanicos, debia ser, segun estos emisarios, manejada con cautela de acuerdo con los vaivenes de la diplomacia y de la guerra europea, de manera que para muchos, como decia monteagudo, era un problema de conveniencia u oportunidad y no algo que aun estaba por discufirse. esa razon de conveniencia parece que obro de tal manera en el animo de los asambleistas que los obligo a postergar la ansiada declaracion. la delicada situacion interna, tanto militar como politica, agravada por las derrotas de las armas patriotas en vilcapugio y ayohuma ( 14 de noviembre de 1813 ), la vuelta al trono de fernando vii ( marzo de 1814 ), la condena y persecucion del brote liberal y la orden de redoblar la represion del movimiento americano, det\n",
      "\n",
      "si el problema de los justos titulos de dominacion habia despertado vivas polemicas ( $ $ 34 - 41 ), el relativo a la condicion de los indigenas, vinculado a aquel, no le fue en zaga, y era senal del interes con que se ahondaba la cuestion. los interrogantes fueron varios : ¿ eran los indige q — _ — — _ — _ — — — — — o ( 3 ) carlos j. diaz rementeria, el cacique en el virreinato del peru. estudio bistorico - juridico. sevilla, 1977 ; gunuermo fetiu cruz y carlos monge alfaro, las encomiendas segun tasas y ordenanzas, buenos aires, 1941 ; trabajos de varios autores se recogen en estudios sobre 7 indigenista espanola en america, valladolid, 1975 - 1977, 3 tomos ; g. furlong, s. ]., misiones y ses pueblos guarantes, buenos aires, 1962 ; alfonso garcia - gallo,\n",
      "\n",
      "----------------------------------------------------------------------------------------------------\n"
     ]
    }
   ],
   "source": [
    "results = chroma_collection.query(query_texts=queriess, n_results=10, include=['documents', 'embeddings'])\n",
    "\n",
    "retrieved_documents = results['documents']\n",
    "\n",
    "# Deduplicate the retrieved documents\n",
    "unique_documents = set()\n",
    "\n",
    "for documents in retrieved_documents:\n",
    "\n",
    "    for document in documents:\n",
    "\n",
    "        unique_documents.add(document)\n",
    "\n",
    "\n",
    "\n",
    "for i, documents in enumerate(retrieved_documents):\n",
    "\n",
    "    print(f\"Query: {queriess[i]}\")\n",
    "    print('')\n",
    "    print(\"Results:\")\n",
    "\n",
    "    for doc in documents:\n",
    "        print(doc)\n",
    "        print('')\n",
    "        \n",
    "    print('-'*100)"
   ]
  },
  {
   "cell_type": "code",
   "execution_count": 66,
   "metadata": {},
   "outputs": [],
   "source": [
    "original_query =\"Cuales fueron los personales mas influyentes llamados Carlos?\""
   ]
  },
  {
   "cell_type": "code",
   "execution_count": 67,
   "metadata": {},
   "outputs": [
    {
     "name": "stderr",
     "output_type": "stream",
     "text": [
      "100%|██████████| 1/1 [00:00<00:00,  3.97it/s]\n",
      "100%|██████████| 6/6 [00:01<00:00,  3.54it/s]\n"
     ]
    }
   ],
   "source": [
    "original_query_embedding = embedding_function([original_query])\n",
    "augmented_query_embeddings = embedding_function(queriess)\n",
    "\n",
    "project_original_query = project_embeddings(original_query_embedding, umap_transform)\n",
    "project_augmented_queries = project_embeddings(augmented_query_embeddings, umap_transform)"
   ]
  },
  {
   "cell_type": "code",
   "execution_count": 68,
   "metadata": {},
   "outputs": [
    {
     "name": "stderr",
     "output_type": "stream",
     "text": [
      "100%|██████████| 60/60 [00:16<00:00,  3.64it/s]\n"
     ]
    }
   ],
   "source": [
    "result_embeddings = results['embeddings']\n",
    "result_embeddings = [item for sublist in result_embeddings for item in sublist]\n",
    "projected_result_embeddings = project_embeddings(result_embeddings, umap_transform)"
   ]
  },
  {
   "cell_type": "code",
   "execution_count": 69,
   "metadata": {},
   "outputs": [
    {
     "data": {
      "text/plain": [
       "(-4.304471504688263,\n",
       " 12.542200338840484,\n",
       " -3.4346214652061464,\n",
       " 8.590541732311248)"
      ]
     },
     "execution_count": 69,
     "metadata": {},
     "output_type": "execute_result"
    },
    {
     "data": {
      "image/png": "[encoded data removed]",
      "text/plain": [
       "<Figure size 640x480 with 1 Axes>"
      ]
     },
     "metadata": {},
     "output_type": "display_data"
    }
   ],
   "source": [
    "import matplotlib.pyplot as plt\n",
    "\n",
    "plt.figure()\n",
    "\n",
    "plt.scatter(projected_dataset_embeddings[  :, 0], projected_dataset_embeddings[  :, 1], s=3, color='gray')\n",
    "plt.scatter(projected_result_embeddings[:, 0],    projected_result_embeddings[:, 1], s=100, facecolors='g', edgecolors='g')\n",
    "plt.scatter(project_augmented_queries[:, 0],      project_augmented_queries[:, 1],       s=150, marker='X', color='orange')\n",
    "plt.scatter(project_original_query[     :, 0],    project_original_query[     :, 1], s=150, marker='X', color='r')\n",
    "\n",
    "\n",
    "\n",
    "plt.gca().set_aspect('equal', 'datalim')\n",
    "plt.title(f'{original_query}')\n",
    "plt.axis('off')"
   ]
  },
  {
   "cell_type": "code",
   "execution_count": 70,
   "metadata": {},
   "outputs": [],
   "source": [
    "# The information provided in the 'content' is the key for how the system will behave. \n",
    "# Feel free to modify it and test different scenarios\n",
    "\n",
    "def rag(query, retrieved_documents, model=\"gpt-3.5-turbo\"):\n",
    "    information = \"\\n\\n\".join(retrieved_documents)\n",
    "\n",
    "    messages = [\n",
    "        {\n",
    "            \"role\": \"system\",\n",
    "            \"content\": \"Eres un estudiante avanzado de derecho especializado en historia. Tus usuarios son profesores que hacen preguntas sobre información contenida en un texto de historia. Se te mostrará la pregunta del usuario y fragmentos del texto con información relevante a la pregunta. Responde la pregunta del usuario utilizando solo esta información.\"\n",
    "        },\n",
    "        {\"role\": \"user\", \"content\": f\"Pregunta: {query}. \\n Información: {information}\"}\n",
    "    ]\n",
    "    \n",
    "\n",
    "    response = openai_client.chat.completions.create(\n",
    "        model=model,\n",
    "        messages=messages,\n",
    "    )\n",
    "    content = response.choices[0].message.content\n",
    "    return content"
   ]
  },
  {
   "cell_type": "code",
   "execution_count": 71,
   "metadata": {},
   "outputs": [],
   "source": [
    "def get_tedtalk_answer(question, detail_retrieved_docs = True ):\n",
    "\n",
    "    queries = get_augmented_queries(question)\n",
    "\n",
    "    results = chroma_collection.query(query_texts=queries, n_results=10, include=['documents', 'embeddings'])\n",
    "\n",
    "\n",
    "    # Under the hood the .query() method will embedd the query using the same embedding funtion used when adding the documents. \n",
    "    # Here is where chroma_db searchs for the documents that look similar to the query and then return some documents (5 here)\n",
    "\n",
    "    retrieved_documents = results['documents'][0]\n",
    "\n",
    "\n",
    "\n",
    "\n",
    "    # If required we can list the retrieved fragments:\n",
    "    if detail_retrieved_docs==True:\n",
    "\n",
    "        print('Los fragmentos que poseen una mayor relacion con la pregunta son: \\n')\n",
    "\n",
    "        for document in retrieved_documents:\n",
    "            print(document)\n",
    "        \n",
    "        print('\\n La respuesta construida en base a dichos fragmentos es: ')\n",
    "\n",
    "\n",
    "    output = rag(query=question, retrieved_documents=retrieved_documents)\n",
    "        \n",
    "    return output"
   ]
  },
  {
   "cell_type": "code",
   "execution_count": 72,
   "metadata": {},
   "outputs": [
    {
     "name": "stdout",
     "output_type": "stream",
     "text": [
      "Los fragmentos que poseen una mayor relacion con la pregunta son: \n",
      "\n",
      "el catolicismo gano considerable espacio publico. las celebraciones religiosas reunian en plazas y calles a crecidas concurrencias. muestra significativa de ello fue la celebracion en buenos aires del xxxii congreso eucaristico internacional en 1934. se trato de una manifestacion de fe colectiva, de tal magnitud como nunca se habia visto en el pais. ademas de su propia e intima significacion estrictamente espiritual - como el acercamiento de miles de varones a la practica religiosa — tuvo tambien efectos institucionales en cuanto a la presencia de la iglesia en la vida publica. de particular interes en el orden de las relaciones con la santa sede fue el hecho de que el delegado pontificio a dicho congreso, el cardenal eucento pacelll, resulto en 1939 elevado al trono pontificio bajo el nombre de pio\n",
      ". el papado, sin posibilidad material ni moral para llevar a cabo esa empresa, resolvio delegar en los monarcas castellanos un cumulo de facultades espirituales que permitieran la obtencion de aquella finalidad. esas facultades se referian a aspectos administrativos del gobierno eclesiastico y a la adquisicion, posesion y disposicion de bienes consagrados al culto o destinados a producir rentas para mantener el servicio religioso, en cambio, la iglesia se reservaba lo atinente al dogma, a los sacramentos y al culto.\n",
      "d ) el diezmo consistia en la decima parte sobre todos los frutos agricola ganaderos. era un impuesto eclesiastico, cuya percepcion el papado delego en la corona espanola a condicion de que se difundiera la religion cristiana entre los indigenas, y se ayudara y mantuviera la iglesia en indias. los indios estaban exentos de este gravamen. e ) el proveniente de las bulas de la santa cruzada era originariamente un derecho eclesiastico asignado en espana para la lucha contra los musulmanes. ingreso en las arcas reales por concesion especial del papa, y consistia en un monto que variaba de acuerdo con la indulgencia contenida en la bula y la capacidad economica del beneficiado.\n",
      "los “ concordatos con la silla apostolica ”. 942. los gobernadores de las provincias eran, segun un decreto del poder ejecutivo del 1 * de mayo de 1855, “ vicepatronos de las iglesias\n",
      "280. las ordenes religiosas constituyeron la base de la empresa misional y a su cargo estuvo la tarea inicial. las cinco grandes ordenes del siglo xvi fueron : los dominicos, franciscanos, agustinos, mercedarios y jesuitas. se caracterizaban estas organizaciones por una rigida vida en comunidad, sus miembros no podian poseer bienes particulares, tratar ni contratar y estaban sujetos a una severa disciplina. aunque los fines y medios utilizados por las diferentes ordenes religiosas eran distintos, unian a estos religiosos los votos de obediencia, pobreza y castidad consagrados por regla de su comunidad. de ahi la denominacion de clero regular con que se distingue este tipo de comunidades religiosas.\n",
      "como fexlrx frias, pedro goyena, jos manuel estrada, tristan achaval rodriguez, manuel d. pizarro ; la llegada de nuevas ordenes religiosas ( bayoneses, jesuitas y salesianos ), destinados principalmente a la educacion de la juventud ; el arribo de sacerdotes cultos y apostolicos, algunos de los cuales estaban destinados principalmente a prestar los auxilios espirituales a colectividades extranjeras ; la formacion de centros o mucleos de militancia catolica, destinados a la difusion religiosa en todos los ordenes, especialmente en lo que respecta a la cultura, la educacion, la beneficencia y la atencion de los problemas sociales, incluso los relativos a la cuestion obrera, que ya se insinuaba con todas sus implicancias.\n",
      "1074. un movimiento profundo de renovacion en el seno de la iglesia catolica romana, a principios de la decada de 1960, produjo transformaciones en la practica de la liturgia, en la valorizacion de la biblia, en las relaciones con otras iglesias cristianas y tuvo consecuencias institucionales en la organizacion eclesiastica y en las relaciones con el estado. este proceso se inicio bajo el pontificado de juan xxihi y se prolongo durante el de su sucesor, pauto vi. aquel convoco a fines de 1961 al concilio ecumenico vaticano ii, que se inauguro en roma el 11 de octubre de 1962 y reunio a unos 2. 400 prelados — cardenales y obispos —\n",
      "de la patria, buscaba en vano en esas banderas enemigas el simbolo elocuente de esa religion. su corazon virginal tuvo desde la cuna presentimientos y vagas revelaciones de ella. su inteligencia joven, 4vida de saber, ansiaba ver realizados esas revelaciones para creer en la patria y en su grandioso porvenir. ” “ los unitarios, sin embargo, habian dejado el rastro de una tradicion progresista estampado en algunas instituciones beneficas, el recuerdo de una epoca, mas fecunda en esperanzas efimeras que en realidades utiles ; sofistas brillantes, habian aparecido en el horizonte de la patria,\n",
      "283. los cabildos - o capitulos — eclesiasticos eran organos colegiados establecidos en las sedes episcopales y a los que correspondia velar por el cumplimiento de las disposiciones canonicas, por la conservacion de los derechos de la iglesia y por el esplendor del culto. colaboraban con el obispo en el gobierno diocesano mediante el consentimiento o el consejo en los negocios graves y asistiendolo en las ceremonias solemnes. en caso de que el obispo se encontrase impedido de ejercer sus funciones, o el sillon episcopal quedase vacante, el cabildo asumia interinamente el gobierno diocesano, debiendo nombrar de inmediato a un vicario capitular para que continuase desempenando esas funciones hasta la designacion de un nuevo titular.\n",
      "291. el papado delego estas atribuciones a traves de varios documentos principales : a ) la bula inter caetera, expedida por alejandro vi el 4 de mayo de 1493, encomendaba a los monarcas “ que envieis a dichas tierras firmes eislas, varones probos y temerosos de dios, doctos, peritos y expertos que instruyan a dichos indigenas, y os obligueis a destinarlos para que instruyan a dichos habitantes en la fe catolica y buenas costumbres, poniendo en ello toda debida diligencia ”, b ) la bula eximiaz devotionis, dada por el mismo pontifice el 16 de noviembre de 1501, concedia a los monarcas castellanos los diezmos ( $ 149 ) que correspondia percibir en las indias, con la condicion de que la corona proveyera a la decorosa sustentacion del culto divino y de sus sacerdotes ;\n",
      "\n",
      " La respuesta construida en base a dichos fragmentos es: \n"
     ]
    },
    {
     "data": {
      "text/plain": [
       "'Las bulas papales eran documentos emitidos por el papado que concedían ciertos privilegios o facultades espirituales a los monarcas castellanos en el siglo XVI. Por ejemplo, se menciona que una de las bulas concedía a los monarcas los diezmos que correspondía percibir en las indias, a cambio de que la corona proveyera la sustentación del culto divino y de sus sacerdotes. Además, se señala que las bulas de la santa cruzada eran un derecho eclesiástico asignado en España para la lucha contra los musulmanes, y que ingresaba en las arcas reales por concesión especial del papa, variando el monto de acuerdo con la indulgencia contenida en la bula y la capacidad económica del beneficiado.'"
      ]
     },
     "execution_count": 72,
     "metadata": {},
     "output_type": "execute_result"
    }
   ],
   "source": [
    "get_tedtalk_answer( \"cuales son las bulas papales\" )"
   ]
  },
  {
   "cell_type": "code",
   "execution_count": 73,
   "metadata": {},
   "outputs": [
    {
     "name": "stdout",
     "output_type": "stream",
     "text": [
      "Los fragmentos que poseen una mayor relacion con la pregunta son: \n",
      "\n",
      "fue dominante en el concepto de las generaciones ilustradas. por eso se condenaron las doctrinas de vrroria, suarez, mariana y todos aquellos que trataron de senalar limitaciones a la autoridad regia. como ejemplo de cuanto decimos, veanse estas preguntas y respuestas contestadas en un catecismo de caracter politico, redactado por el obispo de cordoba de tucuman, fray jose antonio de san alberto, impreso en 1783 para la ensenanza de los ninos : - “ ¿ quien, pues, es el origen de los reyes? - dios mismo, de quien se deriva toda potestad. - ¿ por que los reyes se llamaron dioses? - porque en su reino son unas imagenes visibles de dios. - ¿ quien es superior al rey? - solo dios en lo civil y temporal de su reino. - el rey, ¿ esta sujeto al pueblo? - no, que esto seria estar sujeta la\n",
      "167. la exaltacion del poder real fue tema corriente de toda la literatura politica de este siglo. contra una tradicion espanola que habia fijado limites a la autoridad ( $ 61 ), se defendieron a ultranza las prerrogativas regias. de manera que no puede extranar que haya sido aceptada la concepcion de una monarquia de derecho divino, que consideraba que la autoridad de los reyes provenia directamente de dios, a quien solo debian dar cuenta de su cometido, con independencia de la comunidad. el obispo frances jacogo benigno bossurr desarrollo esta tesis en la obra politica deducida de las propias palabras de la sagrada escritura ( 1709 ), traducida al espanol en 1743. decia que la persona de los reyes era sagrada, como representantes de la majestad divina para la ejecucion de sus designios y, por lo tanto\n",
      "1808 se produjeron los hechos desencadenantes que sellaron la suerte de la monarquia. esta verdadera crisis de poder debe, pues, ser analizada para advertir a traves de ella no solo el desmembramiento territorial, sino tambien la sustancia que nutria a los movimientos emancipadores. los ultimos anos del reinado de carlos iv habian despertado una viva resistencia, especialmente por la ineptitud del favorito manuel godoyy, constituido en el arbitro de los destinos de la monarquia. la razon de ese descontento quedo evidenciada cuando, despues de autorizar el rey a napoleon para cruzar el territorio espanol con destino a portugal, la “ 3 propia corona fue victima de los ambiciosos planes del victorioso ge * neral frances, quien no tardo en aprovechar las debilidades existentes y en ocupar espana con poderosas fu\n",
      "los reyes del siglo siguiente, felipe iii ( 1598 - 1621 ), felirg iv ( 16211665 ) y carlos h “ el hechizado ” ( 1665 - 1700 ), abandonaron los problemas de la administracion indiana — tambien los propios peninsula y res — a validos o primeros ministros, especialmente, durante el reinado de ¿ fglipe til, a don francisco gomez de sandoval y rojas, duque de \" lerma ; bajo felie iv, don gaspar de guzman, conde duque de olivares, y don luis mendez de haro y guzman. el valido era, al mismo tiempo, amigo intimo del rey y ejercia directamente el gobierno de la monarquia, debido a los poderes que, de hecho o de derecho, habia delegado en el el propio rey. la figura del valido evoluciono a traves del siglo, y en buena parte sus caracteristicas dependieron de la persona que obtuvo el favor real. en\n",
      "las fuentes principales utilizadas por el codificador fueron la legislacion castellana vigente, con las modificaciones introducidas por las leyes patrias y por la practica de nuestros tribunales ; el codigo civil frances ; el codigo civil de chile ; el esbogo, del brasileno aucusro teixeira de freitas ; los proyectos de eduardo acevedo para el uruguay y los de una comision presidida por garcia goyena para espana ; la doctrina francesa, la anglosajona, los romanistas y los antiguos comentadores espanoles. dice zorraquin becu que este codigo fue uno de los “ mas perfectos del mundo por su metodo, el acierto de sus disposiciones, la riqueza de su contenido y la novedad de algunas construcciones juridicas que hasta entonces no habian llegado a tener estado legislativo ”. mantuvo su vigencia durante el siglo xx,\n",
      "el tratado establecio en sus disposiciones principales : la perpetua amistad ; la reciproca libertad de comercio y navegacion, aun en caso de guerra entre las partes ; el libre ingreso y la residencia de los naturales de\n",
      "363. dos ideas fundamentales contenia este discurso : la caducidad del gobierno legitimo, puesta ultimamente en evidencia con la disolucion de la junta central, que carecia de facultades legales para establecer una regencia, y “ la reversion de los derechos de la soberania al pueblo de buenos aires y su libre ejercicio en la instalacion de un nuevo gobierno ”. la primera idea se fundaba en un hecho que no se discutia en atencion a las informaciones que se habian recibido de espana en los ultimos meses y que habian determinado precisamente la reunion del cabildo. por otra parte, tampoco era materia en discusion la elevacion al trono de jose bonaparte, pues se lo considero autoridad ilegitima en razon de la nulidad de que adolecian las renuncias y cesiones efectuadas por carlos iv y fernando vii a favor de napoleon — y no de la nacion, como correspondia —, abdicacion\n",
      "168. el cambio postulado por el despotismo ilustrado se tradujo tambien en un acentuado centralismo. los organismos que representaban alguna autoridad al margen del rey fueron suprimidos o relegados de la vida politica del reino. las cortes ( $ 21 ) dejaron de ser convocadas. tan solo se reunieron seis veces a todo lo largo del siglo. los consejos regionales ( aragon, flandes e italia ) desaparecieron en 1715, para pasar a incrementar las atribuciones del de castilla, que se convirtio en el organo esencial de la vida politica de espana.\n",
      "ello surge no solo de las investigaciones historicas efectuadas, sino de la propia legislacion que admitia al extranjero legalizar su situacion mediante la composicion. de tal manera, es posible advertir su existencia en nuestro actual territorio desde el siglo xvi. la mayoria eran portugueses. eduardo gould ha puesto de relieve la activa participacion que tuvieron los portugueses en los negocios y la vida de la ciudad de cordoba hasta mediados del siglo xvii, llegando incluso a ser reconocidos como vecinos y ejerciendo oficios capitulares. a fines del siglo xvii existia en buenos aires un crecido numero de extranjeros de distintas nacionalidades, principalmente portugueses, dedicados al ejercicio del comercio y a otros oficios. en menor numero tambien los habia en el litoral, tucuman y cuyo. los derechos personales * )\n",
      "tambien formaban parte de las huestes los religiosos, para atender las necesidades espirituales de los soldados y lograr la conversion de los indigenas. eran mirados con especial respeto y reverencia, y muchos de ellos participaron en decisiones fundamentales adoptadas por los jefes de las expediciones. completaban la dotacion los oficiales reales, encargados de vigilar el quinto del rey en los rescates y botines de guerra. en las expediciones menores solo iban veedores, pero en las de mayor importancia se enviaban un contador, un tesorero y un factor. estos oficiales reales actuaban libremente dentro de la hueste y dependian directamente del rey.\n",
      "\n",
      " La respuesta construida en base a dichos fragmentos es: \n"
     ]
    },
    {
     "data": {
      "text/plain": [
       "'Respuesta: Dos personajes llamados Carlos que fueron significativos en el siglo XIV fueron Carlos III \"el hechizado\" (1665-1700) y Carlos IV (1788-1808). Carlos III fue un rey que abandonó los problemas de administración en favor de validos o primeros ministros. Por su parte, Carlos IV fue un rey cuyo reinado marcó una crisis de poder que selló la suerte de la monarquía debido a su favorito Manuel Godoy y la invasión francesa de España bajo Napoleón.'"
      ]
     },
     "execution_count": 73,
     "metadata": {},
     "output_type": "execute_result"
    }
   ],
   "source": [
    "get_tedtalk_answer( \"Cuales fueron los personajes llamados Carlos mas significativos del siglo 14 y su principal importancia?\" )"
   ]
  }
 ],
 "metadata": {
  "kernelspec": {
   "display_name": "env",
   "language": "python",
   "name": "python3"
  },
  "language_info": {
   "codemirror_mode": {
    "name": "ipython",
    "version": 3
   },
   "file_extension": ".py",
   "mimetype": "text/x-python",
   "name": "python",
   "nbconvert_exporter": "python",
   "pygments_lexer": "ipython3",
   "version": "3.11.4"
  }
 },
 "nbformat": 4,
 "nbformat_minor": 2
}
